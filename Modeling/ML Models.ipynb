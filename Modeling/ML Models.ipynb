{
  "cells": [
    {
      "cell_type": "code",
      "execution_count": 1,
      "metadata": {
        "id": "ykAQ727zohIn",
        "colab": {
          "base_uri": "https://localhost:8080/"
        },
        "outputId": "71094da8-408c-4074-eb97-8d132ffb4df1"
      },
      "outputs": [
        {
          "output_type": "stream",
          "name": "stdout",
          "text": [
            "Original DataFrame:\n",
            "   Unnamed: 0  count  hate_speech  offensive_language  neither  class  \\\n",
            "0           0      3            0                   0        3      1   \n",
            "1           1      3            0                   3        0      0   \n",
            "2           2      3            0                   3        0      0   \n",
            "3           3      3            0                   2        1      0   \n",
            "4           4      6            0                   6        0      0   \n",
            "\n",
            "                                               tweet  \\\n",
            "0  retweet as a woman you should not complain abo...   \n",
            "1  retweet boy dats coldtyga down bad for cuffin ...   \n",
            "2  retweet dawg retweet you ever fuck a bitch and...   \n",
            "3                     retweet she look like a tranny   \n",
            "4  retweet the shit you hear about me might be tr...   \n",
            "\n",
            "                                        tweet_tokens  \n",
            "0  ['retweet', 'woman', 'complain', 'cleaning', '...  \n",
            "1  ['retweet', 'boy', 'dat', 'coldtyga', 'bad', '...  \n",
            "2  ['retweet', 'dawg', 'retweet', 'ever', 'fuck',...  \n",
            "3              ['retweet', 'look', 'like', 'tranny']  \n",
            "4  ['retweet', 'shit', 'hear', 'might', 'true', '...  \n"
          ]
        }
      ],
      "source": [
        "import pandas as pd\n",
        "import seaborn as sns\n",
        "import matplotlib.pyplot as plt\n",
        "from sklearn.pipeline import Pipeline\n",
        "from sklearn.preprocessing import StandardScaler\n",
        "from sklearn.decomposition import TruncatedSVD # Use TruncatedSVD for sparse data\n",
        "from sklearn.decomposition import PCA\n",
        "from sklearn.svm import SVC\n",
        "from sklearn.naive_bayes import MultinomialNB\n",
        "from sklearn.metrics import accuracy_score, classification_report, confusion_matrix\n",
        "from sklearn.model_selection import train_test_split\n",
        "# Load the dataset\n",
        "df = pd.read_csv('/content/cleaned_dataset_updated.csv')\n",
        "\n",
        "# Display the first few rows to verify\n",
        "print(\"Original DataFrame:\")\n",
        "print(df.head())\n",
        " # Use the 'tweet' column for text data\n",
        "X = df['tweet']\n",
        "# Use the 'class' column for labels\n",
        "y = df['class']\n",
        "\n",
        "\n",
        "X_train, X_test, y_train, y_test = train_test_split(X, y, test_size=0.2, random_state=42, stratify=y)"
      ]
    },
    {
      "cell_type": "markdown",
      "metadata": {
        "id": "mIP8SGkLnt9l"
      },
      "source": [
        "## **TF - IDF** **Vectorization**\n",
        "\n",
        "\n"
      ]
    },
    {
      "cell_type": "code",
      "execution_count": 2,
      "metadata": {
        "id": "RJPURVlQpZyS"
      },
      "outputs": [],
      "source": [
        "# TF-IDF Vectorization\n",
        "from sklearn.feature_extraction.text import TfidfVectorizer\n",
        "from imblearn.over_sampling import SMOTE\n",
        "X_train = X_train.fillna('')  # Replace NaN with empty strings\n",
        "X_test = X_test.fillna('')\n",
        "tfidf = TfidfVectorizer(max_features=1000)\n",
        "X_train_tfidf = tfidf.fit_transform(X_train)\n",
        "X_test_tfidf = tfidf.transform(X_test)\n",
        "\n",
        "# Handle class imbalance with SMOTE\n",
        "smote = SMOTE(random_state=42)\n",
        "X_train_resampled, y_train_resampled = smote.fit_resample(X_train_tfidf, y_train)\n"
      ]
    },
    {
      "cell_type": "markdown",
      "metadata": {
        "id": "fWmxSmidoDqf"
      },
      "source": [
        "##  **Model Traning  using Random Forest Model**"
      ]
    },
    {
      "cell_type": "code",
      "execution_count": 3,
      "metadata": {
        "colab": {
          "base_uri": "https://localhost:8080/"
        },
        "id": "UMlD33n9Dk_W",
        "outputId": "c7fb2e58-9669-4706-a892-cadd8bd3bb0b"
      },
      "outputs": [
        {
          "output_type": "stream",
          "name": "stdout",
          "text": [
            "TF-IDF Encoding with Random Forest\n",
            "Accuracy: 0.9293927778898528\n",
            "Classification Report:\n",
            "               precision    recall  f1-score   support\n",
            "\n",
            "           0       0.96      0.95      0.96      4124\n",
            "           1       0.78      0.81      0.79       833\n",
            "\n",
            "    accuracy                           0.93      4957\n",
            "   macro avg       0.87      0.88      0.88      4957\n",
            "weighted avg       0.93      0.93      0.93      4957\n",
            "\n",
            "Accuracy: 0.9293927778898528\n",
            "Precision: 0.9303333708198182\n",
            "Recall: 0.9293927778898528\n",
            "F1 Score: 0.9298236296067285\n"
          ]
        }
      ],
      "source": [
        "\n",
        "from sklearn.ensemble import RandomForestClassifier\n",
        "\n",
        "# Random Forest Pipeline\n",
        "pipeline_rf = Pipeline([\n",
        "    ('scaler', StandardScaler(with_mean=False)),  # StandardScaler does not support sparse matrix if with_mean=True\n",
        "    ('classifier', RandomForestClassifier(n_estimators=100, random_state=42))\n",
        "])\n",
        "\n",
        "# Train and evaluate the model\n",
        "pipeline_rf.fit(X_train_resampled, y_train_resampled)\n",
        "y_pred_rf = pipeline_rf.predict(X_test_tfidf)\n",
        "\n",
        "print(\"TF-IDF Encoding with Random Forest\")\n",
        "print(\"Accuracy:\", accuracy_score(y_test, y_pred_rf))\n",
        "print(\"Classification Report:\\n\", classification_report(y_test, y_pred_rf))\n",
        "\n",
        "# Extracting metrics separately\n",
        "accuracy = accuracy_score(y_test, y_pred_rf)\n",
        "classification_report_dict = classification_report(y_test, y_pred_rf, output_dict=True)\n",
        "precision = classification_report_dict['weighted avg']['precision']\n",
        "recall = classification_report_dict['weighted avg']['recall']\n",
        "f1_score = classification_report_dict['weighted avg']['f1-score']\n",
        "\n",
        "print(f\"Accuracy: {accuracy}\")\n",
        "print(f\"Precision: {precision}\")\n",
        "print(f\"Recall: {recall}\")\n",
        "print(f\"F1 Score: {f1_score}\")\n"
      ]
    },
    {
      "cell_type": "code",
      "execution_count": 4,
      "metadata": {
        "id": "bkRcYUspnATE",
        "colab": {
          "base_uri": "https://localhost:8080/",
          "height": 524
        },
        "outputId": "c03131b5-9132-4708-c8e8-56ac5ee2473a"
      },
      "outputs": [
        {
          "output_type": "stream",
          "name": "stdout",
          "text": [
            "Confusion Matrix:\n",
            " [[3936  188]\n",
            " [ 162  671]]\n"
          ]
        },
        {
          "output_type": "display_data",
          "data": {
            "text/plain": [
              "<Figure size 640x480 with 2 Axes>"
            ],
            "image/png": "[encoded data removed]"
          },
          "metadata": {}
        }
      ],
      "source": [
        "\n",
        "\n",
        "# Confusion Matrix\n",
        "cm = confusion_matrix(y_test, y_pred_rf)\n",
        "print(\"Confusion Matrix:\\n\", cm)\n",
        "\n",
        "# Plot confusion matrix\n",
        "sns.heatmap(cm, annot=True, fmt='d', cmap='Greens')\n",
        "plt.xlabel('Predicted')\n",
        "plt.ylabel('True')\n",
        "plt.title('Confusion Matrix')\n",
        "plt.show()"
      ]
    },
    {
      "cell_type": "markdown",
      "metadata": {
        "id": "wF48NfUionJh"
      },
      "source": [
        "## **Model Traning Using Naive Bayes Model**"
      ]
    },
    {
      "cell_type": "code",
      "execution_count": 6,
      "metadata": {
        "id": "G7f7dspnomnu",
        "colab": {
          "base_uri": "https://localhost:8080/"
        },
        "outputId": "d93e6a51-0003-4260-9f65-4612b50af7fb"
      },
      "outputs": [
        {
          "output_type": "stream",
          "name": "stdout",
          "text": [
            "TF-IDF Encoding with Naive Bayes\n",
            "Accuracy: 0.8553560621343554\n",
            "Classification Report:\n",
            "               precision    recall  f1-score   support\n",
            "\n",
            "           0       0.95      0.87      0.91      4124\n",
            "           1       0.55      0.76      0.64       833\n",
            "\n",
            "    accuracy                           0.86      4957\n",
            "   macro avg       0.75      0.82      0.77      4957\n",
            "weighted avg       0.88      0.86      0.86      4957\n",
            "\n",
            "Accuracy: 0.8553560621343554\n",
            "Precision: 0.8807461450368073\n",
            "Recall: 0.8553560621343554\n",
            "F1 Score: 0.8640266750648763\n"
          ]
        }
      ],
      "source": [
        "\n",
        "# Naive Bayes Pipeline\n",
        "\n",
        "pipeline_tfidf = Pipeline([\n",
        "    ('scaler', StandardScaler(with_mean=False)),  # StandardScaler does not support sparse matrix if with_mean=True\n",
        "    ('classifier', MultinomialNB())\n",
        "])\n",
        "\n",
        "# Train and evaluate the model\n",
        "pipeline_tfidf.fit(X_train_resampled, y_train_resampled)\n",
        "y_pred_tfidf = pipeline_tfidf.predict(X_test_tfidf)\n",
        "\n",
        "print(\"TF-IDF Encoding with Naive Bayes\")\n",
        "print(\"Accuracy:\", accuracy_score(y_test, y_pred_tfidf))\n",
        "print(\"Classification Report:\\n\", classification_report(y_test, y_pred_tfidf))\n",
        "\n",
        "# Extracting metrics separately\n",
        "accuracy = accuracy_score(y_test, y_pred_tfidf)\n",
        "classification_report_dict = classification_report(y_test, y_pred_tfidf, output_dict=True)\n",
        "precision = classification_report_dict['weighted avg']['precision']\n",
        "recall = classification_report_dict['weighted avg']['recall']\n",
        "f1_score = classification_report_dict['weighted avg']['f1-score']\n",
        "\n",
        "print(f\"Accuracy: {accuracy}\")\n",
        "print(f\"Precision: {precision}\")\n",
        "print(f\"Recall: {recall}\")\n",
        "print(f\"F1 Score: {f1_score}\")"
      ]
    },
    {
      "cell_type": "code",
      "execution_count": 7,
      "metadata": {
        "id": "YU0ZZ0I9qtNO",
        "colab": {
          "base_uri": "https://localhost:8080/",
          "height": 524
        },
        "outputId": "56576093-a250-4d2e-d171-96eb44b9ea27"
      },
      "outputs": [
        {
          "output_type": "stream",
          "name": "stdout",
          "text": [
            "Confusion Matrix:\n",
            " [[3607  517]\n",
            " [ 200  633]]\n"
          ]
        },
        {
          "output_type": "display_data",
          "data": {
            "text/plain": [
              "<Figure size 640x480 with 2 Axes>"
            ],
            "image/png": "[encoded data removed]"
          },
          "metadata": {}
        }
      ],
      "source": [
        "# Confusion Matrix\n",
        "cm = confusion_matrix(y_test, y_pred_tfidf)\n",
        "print(\"Confusion Matrix:\\n\", cm)\n",
        "\n",
        "# Plot confusion matrix\n",
        "sns.heatmap(cm, annot=True, fmt='d', cmap='Greens')\n",
        "plt.xlabel('Predicted')\n",
        "plt.ylabel('True')\n",
        "plt.title('Confusion Matrix')\n",
        "plt.show()"
      ]
    },
    {
      "cell_type": "markdown",
      "source": [
        "## **Model Traning Using Logistic Regression Model**"
      ],
      "metadata": {
        "id": "iBDoJW0eQi1I"
      }
    },
    {
      "cell_type": "code",
      "source": [
        "from sklearn.linear_model import LogisticRegression\n",
        "  # Logistic Regression Pipeline\n",
        "pipeline_tfidf = Pipeline([\n",
        "    ('scaler', StandardScaler(with_mean=False)),  # StandardScaler does not support sparse matrix if with_mean=True\n",
        "    ('classifier', LogisticRegression(max_iter=1000))\n",
        "])\n",
        "\n",
        "# Train and evaluate the model\n",
        "pipeline_tfidf.fit(X_train_resampled, y_train_resampled)\n",
        "y_pred_tfidf = pipeline_tfidf.predict(X_test_tfidf)\n",
        "\n",
        "print(\"TF-IDF Encoding with Logistic Regression\")\n",
        "print(\"Accuracy:\", accuracy_score(y_test, y_pred_tfidf))\n",
        "print(\"Classification Report:\\n\", classification_report(y_test, y_pred_tfidf))\n",
        "\n",
        "# Extracting metrics separately\n",
        "accuracy = accuracy_score(y_test, y_pred_tfidf)\n",
        "classification_report_dict = classification_report(y_test, y_pred_tfidf, output_dict=True)\n",
        "precision = classification_report_dict['weighted avg']['precision']\n",
        "recall = classification_report_dict['weighted avg']['recall']\n",
        "f1_score = classification_report_dict['weighted avg']['f1-score']\n",
        "\n",
        "print(f\"Accuracy: {accuracy}\")\n",
        "print(f\"Precision: {precision}\")\n",
        "print(f\"Recall: {recall}\")\n",
        "print(f\"F1 Score: {f1_score}\")\n"
      ],
      "metadata": {
        "colab": {
          "base_uri": "https://localhost:8080/"
        },
        "id": "aBigCtcOFiRv",
        "outputId": "7c1b905b-d204-46c8-b6fc-e7485fdb8bb0"
      },
      "execution_count": 8,
      "outputs": [
        {
          "output_type": "stream",
          "name": "stdout",
          "text": [
            "TF-IDF Encoding with Logistic Regression\n",
            "Accuracy: 0.9334274762961469\n",
            "Classification Report:\n",
            "               precision    recall  f1-score   support\n",
            "\n",
            "           0       0.97      0.95      0.96      4124\n",
            "           1       0.77      0.86      0.81       833\n",
            "\n",
            "    accuracy                           0.93      4957\n",
            "   macro avg       0.87      0.90      0.89      4957\n",
            "weighted avg       0.94      0.93      0.93      4957\n",
            "\n",
            "Accuracy: 0.9334274762961469\n",
            "Precision: 0.9374997158327829\n",
            "Recall: 0.9334274762961469\n",
            "F1 Score: 0.934903794944325\n"
          ]
        }
      ]
    },
    {
      "cell_type": "code",
      "source": [
        "# Confusion Matrix\n",
        "cm = confusion_matrix(y_test, y_pred_tfidf)\n",
        "print(\"Confusion Matrix:\\n\", cm)\n",
        "\n",
        "# Plot confusion matrix\n",
        "sns.heatmap(cm, annot=True, fmt='d', cmap='Greens')\n",
        "plt.xlabel('Predicted')\n",
        "plt.ylabel('True')\n",
        "plt.title('Confusion Matrix')\n",
        "plt.show()"
      ],
      "metadata": {
        "colab": {
          "base_uri": "https://localhost:8080/",
          "height": 524
        },
        "id": "alcTM1t6IYzy",
        "outputId": "8243a4e4-0708-4390-e58a-5998299445d0"
      },
      "execution_count": 9,
      "outputs": [
        {
          "output_type": "stream",
          "name": "stdout",
          "text": [
            "Confusion Matrix:\n",
            " [[3909  215]\n",
            " [ 115  718]]\n"
          ]
        },
        {
          "output_type": "display_data",
          "data": {
            "text/plain": [
              "<Figure size 640x480 with 2 Axes>"
            ],
            "image/png": "[encoded data removed]"
          },
          "metadata": {}
        }
      ]
    },
    {
      "cell_type": "markdown",
      "source": [
        "# **Conclusion :**  \n",
        "*    **Random Forest** Model we are getting accuracy of **92%**.\n",
        "\n",
        "*  **Naive Beyes** model which getting **85%** accuracy.\n",
        "\n",
        "*  **Logistic Regression** which getting **93%** of accuracy which is highest among other models in Hate Speech Detection from Tweets on Tweeter platform.  \n",
        "\n",
        "\n",
        "\n",
        "\n",
        "\n",
        "\n",
        "\n"
      ],
      "metadata": {
        "id": "vfHEdD5XImLy"
      }
    }
  ],
  "metadata": {
    "colab": {
      "provenance": []
    },
    "kernelspec": {
      "display_name": "Python 3",
      "name": "python3"
    },
    "language_info": {
      "name": "python"
    }
  },
  "nbformat": 4,
  "nbformat_minor": 0
}
