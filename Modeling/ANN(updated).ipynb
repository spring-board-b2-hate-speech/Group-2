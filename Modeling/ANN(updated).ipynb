{
  "nbformat": 4,
  "nbformat_minor": 0,
  "metadata": {
    "colab": {
      "provenance": []
    },
    "kernelspec": {
      "name": "python3",
      "display_name": "Python 3"
    },
    "language_info": {
      "name": "python"
    }
  },
  "cells": [
    {
      "cell_type": "code",
      "execution_count": 1,
      "metadata": {
        "colab": {
          "base_uri": "https://localhost:8080/"
        },
        "id": "Eycx7hTA_AXj",
        "outputId": "8819c35d-a03e-46b6-a63f-11443a623ca5"
      },
      "outputs": [
        {
          "output_type": "stream",
          "name": "stdout",
          "text": [
            "Original DataFrame:\n",
            "   Unnamed: 0  count  hate_speech  offensive_language  neither  class  \\\n",
            "0           0      3            0                   0        3      1   \n",
            "1           1      3            0                   3        0      0   \n",
            "2           2      3            0                   3        0      0   \n",
            "3           3      3            0                   2        1      0   \n",
            "4           4      6            0                   6        0      0   \n",
            "\n",
            "                                               tweet  \\\n",
            "0  retweet as a woman you should not complain abo...   \n",
            "1  retweet boy dats coldtyga down bad for cuffin ...   \n",
            "2  retweet dawg retweet you ever fuck a bitch and...   \n",
            "3                     retweet she look like a tranny   \n",
            "4  retweet the shit you hear about me might be tr...   \n",
            "\n",
            "                                        tweet_tokens  \n",
            "0  ['retweet', 'woman', 'complain', 'cleaning', '...  \n",
            "1  ['retweet', 'boy', 'dat', 'coldtyga', 'bad', '...  \n",
            "2  ['retweet', 'dawg', 'retweet', 'ever', 'fuck',...  \n",
            "3              ['retweet', 'look', 'like', 'tranny']  \n",
            "4  ['retweet', 'shit', 'hear', 'might', 'true', '...  \n"
          ]
        }
      ],
      "source": [
        "import pandas as pd\n",
        "import numpy as np\n",
        "import ast\n",
        "from sklearn.feature_extraction.text import TfidfVectorizer\n",
        "from sklearn.model_selection import train_test_split\n",
        "from tensorflow.keras.models import Sequential\n",
        "from tensorflow.keras.layers import Dense, Dropout, LSTM\n",
        "from tensorflow.keras.optimizers import Adam\n",
        "from tensorflow.keras.callbacks import EarlyStopping\n",
        "from sklearn.preprocessing import LabelEncoder\n",
        "from tensorflow.keras.utils import to_categorical\n",
        "from imblearn.over_sampling import SMOTE\n",
        "from tensorflow.keras.layers import Input, Flatten, SpatialDropout1D, Bidirectional, Reshape\n",
        "from sklearn.metrics import accuracy_score, classification_report\n",
        "\n",
        "# Load the dataset\n",
        "df = pd.read_csv('/content/cleaned_dataset_updated.csv')\n",
        "\n",
        "# Display the first few rows to verify\n",
        "print(\"Original DataFrame:\")\n",
        "print(df.head())\n",
        " # Use the 'tweet' column for text data\n",
        "X = df['tweet']\n",
        "# Use the 'class' column for labels\n",
        "y = df['class']\n",
        "\n",
        "\n",
        "X_train, X_test, y_train, y_test = train_test_split(X, y, test_size=0.2, random_state=42, stratify=y)\n",
        "# Handle missing values in 'tweet' column\n",
        "df['tweet'] = df['tweet'].fillna('')  # Replace NaN with empty strings\n",
        "\n",
        "\n",
        "\n",
        "X_train, X_test, y_train, y_test = train_test_split(X, y, test_size=0.2, random_state=42, stratify=y)\n",
        "# Use TfidfVectorizer for the 'tweet_tokens' column\n",
        "tfidf = TfidfVectorizer()\n",
        "X_tfidf = tfidf.fit_transform(df['tweet'])\n",
        "\n",
        "# Encode target labels\n",
        "label_encoder = LabelEncoder()\n",
        "y_encoded = label_encoder.fit_transform(y)\n",
        "\n",
        "# Handle class imbalance by converting labels to one-hot encoding\n",
        "y_categorical = to_categorical(y_encoded)\n",
        ""
      ]
    },
    {
      "cell_type": "code",
      "source": [
        "# Define the ANN model\n",
        "\n",
        "model = Sequential()\n",
        "model.add(Dense(512, activation='relu', input_shape=(X_tfidf.shape[1],)))\n",
        "\n",
        "\n",
        "model.add(Dropout(0.2))\n",
        "model.add(Dense(512, activation='relu'))\n",
        "model.add(Dense(64, activation='relu'))\n",
        "model.add(Dropout(0.2))\n",
        "\n",
        "model.add(Dense(y_categorical.shape[1], activation='softmax'))\n",
        "\n",
        "# Compile the model\n",
        "model.compile(loss='categorical_crossentropy', optimizer=Adam(lr=0.001), metrics=['accuracy'])\n",
        "\n",
        "# Define early stopping callback\n",
        "early_stopping = EarlyStopping(monitor='val_accuracy', patience=5, min_delta=0.001)\n",
        "\n",
        "# Sort the indices of the sparse matrix\n",
        "X_tfidf.sort_indices()\n",
        "\n",
        "# Split data into training and validation sets\n",
        "X_train, X_val, y_train, y_val = train_test_split(X_tfidf, y_categorical, test_size=0.2, random_state=42)\n",
        "\n",
        "# Train the model\n",
        "history = model.fit(X_train, y_train, epochs=10, batch_size=32,\n",
        "                    validation_data=(X_val, y_val),\n",
        "                    callbacks=[early_stopping],\n",
        "                    verbose=1)\n",
        "\n",
        "# Evaluate the model on the validation set\n",
        "loss, accuracy = model.evaluate(X_val, y_val)\n",
        "print(f'Validation accuracy: {accuracy:.3f}')\n"
      ],
      "metadata": {
        "colab": {
          "base_uri": "https://localhost:8080/"
        },
        "id": "GzktwiWt_bNB",
        "outputId": "31f97b9a-4f68-4245-f6f9-fb8245f024a6"
      },
      "execution_count": 2,
      "outputs": [
        {
          "output_type": "stream",
          "name": "stderr",
          "text": [
            "WARNING:absl:`lr` is deprecated in Keras optimizer, please use `learning_rate` or use the legacy optimizer, e.g.,tf.keras.optimizers.legacy.Adam.\n"
          ]
        },
        {
          "output_type": "stream",
          "name": "stdout",
          "text": [
            "Epoch 1/10\n",
            "620/620 [==============================] - 255s 409ms/step - loss: 0.2017 - accuracy: 0.9149 - val_loss: 0.1587 - val_accuracy: 0.9312\n",
            "Epoch 2/10\n",
            "620/620 [==============================] - 265s 428ms/step - loss: 0.0657 - accuracy: 0.9764 - val_loss: 0.1855 - val_accuracy: 0.9298\n",
            "Epoch 3/10\n",
            "620/620 [==============================] - 195s 315ms/step - loss: 0.0217 - accuracy: 0.9926 - val_loss: 0.2865 - val_accuracy: 0.9278\n",
            "Epoch 4/10\n",
            "620/620 [==============================] - 187s 302ms/step - loss: 0.0090 - accuracy: 0.9964 - val_loss: 0.3663 - val_accuracy: 0.9274\n",
            "Epoch 5/10\n",
            "620/620 [==============================] - 207s 333ms/step - loss: 0.0063 - accuracy: 0.9974 - val_loss: 0.3105 - val_accuracy: 0.9254\n",
            "Epoch 6/10\n",
            "620/620 [==============================] - 186s 301ms/step - loss: 0.0036 - accuracy: 0.9985 - val_loss: 0.4836 - val_accuracy: 0.9250\n",
            "155/155 [==============================] - 1s 3ms/step - loss: 0.4836 - accuracy: 0.9250\n",
            "Validation accuracy: 0.925\n"
          ]
        }
      ]
    },
    {
      "cell_type": "code",
      "source": [
        "# Predict probabilities on the validation set\n",
        "y_pred_probs = model.predict(X_val)\n",
        "\n",
        "# Get predicted labels (class with highest probability)\n",
        "y_pred = np.argmax(y_pred_probs, axis=1)\n",
        "\n",
        "# Inverse transform encoded true labels to original form\n",
        "y_val_original = np.argmax(y_val, axis=1)\n",
        "\n",
        "\n",
        "\n",
        "# Extracting metrics separately\n",
        "print(\"Accuracy:\", accuracy_score(y_val_original, y_pred))\n",
        "print(\"Classification Report:\\n\", classification_report(y_val_original, y_pred))\n",
        "\n",
        "accuracy = accuracy_score(y_val_original, y_pred)\n",
        "\n",
        "classification_report_dict = classification_report(y_val_original, y_pred, output_dict=True)\n",
        "precision = classification_report_dict['weighted avg']['precision']\n",
        "recall = classification_report_dict['weighted avg']['recall']\n",
        "f1_score = classification_report_dict['weighted avg']['f1-score']\n"
      ],
      "metadata": {
        "colab": {
          "base_uri": "https://localhost:8080/"
        },
        "id": "FwmJ0RKTDayH",
        "outputId": "5a8cdd38-da62-4da4-9c6b-828022209bed"
      },
      "execution_count": 3,
      "outputs": [
        {
          "output_type": "stream",
          "name": "stdout",
          "text": [
            "155/155 [==============================] - 1s 5ms/step\n",
            "Accuracy: 0.9249546096429292\n",
            "Classification Report:\n",
            "               precision    recall  f1-score   support\n",
            "\n",
            "           0       0.95      0.96      0.96      4122\n",
            "           1       0.80      0.74      0.77       835\n",
            "\n",
            "    accuracy                           0.92      4957\n",
            "   macro avg       0.87      0.85      0.86      4957\n",
            "weighted avg       0.92      0.92      0.92      4957\n",
            "\n"
          ]
        }
      ]
    }
  ]
}