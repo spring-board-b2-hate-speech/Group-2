{
  "nbformat": 4,
  "nbformat_minor": 0,
  "metadata": {
    "colab": {
      "provenance": []
    },
    "kernelspec": {
      "name": "python3",
      "display_name": "Python 3"
    },
    "language_info": {
      "name": "python"
    }
  },
  "cells": [
    {
      "cell_type": "markdown",
      "source": [
        "# **ANN Model**"
      ],
      "metadata": {
        "id": "zIjzN7vfbrTI"
      }
    },
    {
      "cell_type": "code",
      "execution_count": 1,
      "metadata": {
        "colab": {
          "base_uri": "https://localhost:8080/"
        },
        "id": "YGRpsPhkvhrw",
        "outputId": "52a20adf-30ac-436d-cd04-65c7782bb85a"
      },
      "outputs": [
        {
          "output_type": "stream",
          "name": "stdout",
          "text": [
            "Original DataFrame:\n",
            "   Unnamed: 0  count  hate_speech  offensive_language  neither  class  \\\n",
            "0           0      3            0                   0        3      2   \n",
            "1           1      3            0                   3        0      1   \n",
            "2           2      3            0                   3        0      1   \n",
            "3           3      3            0                   2        1      1   \n",
            "4           4      6            0                   6        0      1   \n",
            "\n",
            "                                               tweet  \\\n",
            "0  retweet as a woman you should not complain abo...   \n",
            "1  retweet boy dats coldtyga down bad for cuffin ...   \n",
            "2  retweet dawg retweet you ever fuck a bitch and...   \n",
            "3                     retweet she look like a tranny   \n",
            "4  retweet the shit you hear about me might be tr...   \n",
            "\n",
            "                                        tweet_tokens  \n",
            "0  ['retweet', 'woman', 'complain', 'cleaning', '...  \n",
            "1  ['retweet', 'boy', 'dat', 'coldtyga', 'bad', '...  \n",
            "2  ['retweet', 'dawg', 'retweet', 'ever', 'fuck',...  \n",
            "3              ['retweet', 'look', 'like', 'tranny']  \n",
            "4  ['retweet', 'shit', 'hear', 'might', 'true', '...  \n"
          ]
        }
      ],
      "source": [
        "\n",
        "\n",
        "import pandas as pd\n",
        "import numpy as np\n",
        "import ast\n",
        "from sklearn.feature_extraction.text import TfidfVectorizer\n",
        "from sklearn.model_selection import train_test_split\n",
        "from tensorflow.keras.models import Sequential\n",
        "from tensorflow.keras.layers import Dense, Dropout, LSTM\n",
        "from tensorflow.keras.optimizers import Adam\n",
        "from tensorflow.keras.callbacks import EarlyStopping\n",
        "from sklearn.preprocessing import LabelEncoder\n",
        "from tensorflow.keras.utils import to_categorical\n",
        "from imblearn.over_sampling import SMOTE\n",
        "from tensorflow.keras.layers import Input, Flatten, SpatialDropout1D, Bidirectional, Reshape\n",
        "from sklearn.metrics import accuracy_score, classification_report\n",
        "\n",
        "\n",
        "\n",
        "\n",
        "\n",
        "# Load the dataset\n",
        "df = pd.read_csv('/content/cleaned_dataset (1).csv')\n",
        "\n",
        "# Display the first few rows to verify\n",
        "print(\"Original DataFrame:\")\n",
        "print(df.head())\n",
        " # Use the 'tweet' column for text data\n",
        "X = df['tweet']\n",
        "# Use the 'class' column for labels\n",
        "y = df['class']\n",
        "\n",
        "\n",
        "X_train, X_test, y_train, y_test = train_test_split(X, y, test_size=0.2, random_state=42, stratify=y)\n",
        "# Handle missing values in 'tweet' column\n",
        "df['tweet'] = df['tweet'].fillna('')  # Replace NaN with empty strings\n",
        "\n",
        "\n",
        "\n",
        "X_train, X_test, y_train, y_test = train_test_split(X, y, test_size=0.2, random_state=42, stratify=y)\n",
        "# Use TfidfVectorizer for the 'tweet_tokens' column\n",
        "tfidf = TfidfVectorizer()\n",
        "X_tfidf = tfidf.fit_transform(df['tweet'])\n",
        "\n",
        "# Encode target labels\n",
        "label_encoder = LabelEncoder()\n",
        "y_encoded = label_encoder.fit_transform(y)\n",
        "\n",
        "# Handle class imbalance by converting labels to one-hot encoding\n",
        "y_categorical = to_categorical(y_encoded)"
      ]
    },
    {
      "cell_type": "code",
      "source": [
        "\n",
        "# Define the ANN model\n",
        "\n",
        "model = Sequential()\n",
        "model.add(Dense(512, activation='relu', input_shape=(X_tfidf.shape[1],)))\n",
        "\n",
        "\n",
        "model.add(Dropout(0.2))\n",
        "model.add(Dense(512, activation='relu'))\n",
        "model.add(Dense(64, activation='relu'))\n",
        "model.add(Dropout(0.2))\n",
        "\n",
        "model.add(Dense(y_categorical.shape[1], activation='softmax'))\n",
        "\n",
        "# Compile the model\n",
        "model.compile(loss='categorical_crossentropy', optimizer=Adam(lr=0.001), metrics=['accuracy'])\n",
        "\n",
        "# Define early stopping callback\n",
        "early_stopping = EarlyStopping(monitor='val_accuracy', patience=5, min_delta=0.001)\n",
        "\n",
        "# Sort the indices of the sparse matrix\n",
        "X_tfidf.sort_indices()\n",
        "\n",
        "# Split data into training and validation sets\n",
        "X_train, X_val, y_train, y_val = train_test_split(X_tfidf, y_categorical, test_size=0.2, random_state=42)\n",
        "\n",
        "# Train the model\n",
        "history = model.fit(X_train, y_train, epochs=10, batch_size=32,\n",
        "                    validation_data=(X_val, y_val),\n",
        "                    callbacks=[early_stopping],\n",
        "                    verbose=1)\n",
        "\n",
        "# Evaluate the model on the validation set\n",
        "loss, accuracy = model.evaluate(X_val, y_val)\n",
        "print(f'Validation accuracy: {accuracy:.3f}')"
      ],
      "metadata": {
        "colab": {
          "base_uri": "https://localhost:8080/"
        },
        "id": "Ooe5BVFNv5wg",
        "outputId": "e785fd30-c3d1-4aaf-93b0-a0b927d714cd"
      },
      "execution_count": 2,
      "outputs": [
        {
          "output_type": "stream",
          "name": "stderr",
          "text": [
            "WARNING:absl:`lr` is deprecated in Keras optimizer, please use `learning_rate` or use the legacy optimizer, e.g.,tf.keras.optimizers.legacy.Adam.\n"
          ]
        },
        {
          "output_type": "stream",
          "name": "stdout",
          "text": [
            "Epoch 1/10\n",
            "620/620 [==============================] - 179s 284ms/step - loss: 0.3902 - accuracy: 0.8617 - val_loss: 0.3223 - val_accuracy: 0.8884\n",
            "Epoch 2/10\n",
            "620/620 [==============================] - 176s 284ms/step - loss: 0.1782 - accuracy: 0.9357 - val_loss: 0.3855 - val_accuracy: 0.8777\n",
            "Epoch 3/10\n",
            "620/620 [==============================] - 174s 280ms/step - loss: 0.0861 - accuracy: 0.9687 - val_loss: 0.4885 - val_accuracy: 0.8543\n",
            "Epoch 4/10\n",
            "620/620 [==============================] - 175s 282ms/step - loss: 0.0427 - accuracy: 0.9847 - val_loss: 0.5947 - val_accuracy: 0.8497\n",
            "Epoch 5/10\n",
            "620/620 [==============================] - 176s 284ms/step - loss: 0.0255 - accuracy: 0.9906 - val_loss: 0.9924 - val_accuracy: 0.8366\n",
            "Epoch 6/10\n",
            "620/620 [==============================] - 174s 281ms/step - loss: 0.0160 - accuracy: 0.9933 - val_loss: 0.8434 - val_accuracy: 0.8586\n",
            "155/155 [==============================] - 1s 3ms/step - loss: 0.8434 - accuracy: 0.8586\n",
            "Validation accuracy: 0.859\n"
          ]
        }
      ]
    },
    {
      "cell_type": "code",
      "source": [
        "# Predict probabilities on the validation set\n",
        "y_pred_probs = model.predict(X_val)\n",
        "\n",
        "# Get predicted labels (class with highest probability)\n",
        "y_pred = np.argmax(y_pred_probs, axis=1)\n",
        "\n",
        "# Inverse transform encoded true labels to original form\n",
        "y_val_original = np.argmax(y_val, axis=1)"
      ],
      "metadata": {
        "colab": {
          "base_uri": "https://localhost:8080/"
        },
        "id": "-nbT_n99Jr4r",
        "outputId": "853b44bf-8fcf-4072-cf53-07c025c145fe"
      },
      "execution_count": 3,
      "outputs": [
        {
          "output_type": "stream",
          "name": "stdout",
          "text": [
            "155/155 [==============================] - 1s 5ms/step\n"
          ]
        }
      ]
    },
    {
      "cell_type": "code",
      "source": [
        "# Extracting metrics separately\n",
        "print(\"Accuracy:\", accuracy_score(y_val_original, y_pred))\n",
        "print(\"Classification Report:\\n\", classification_report(y_val_original, y_pred))\n",
        "\n",
        "accuracy = accuracy_score(y_val_original, y_pred)\n",
        "\n",
        "classification_report_dict = classification_report(y_val_original, y_pred, output_dict=True)\n",
        "precision = classification_report_dict['weighted avg']['precision']\n",
        "recall = classification_report_dict['weighted avg']['recall']\n",
        "f1_score = classification_report_dict['weighted avg']['f1-score']\n"
      ],
      "metadata": {
        "id": "WP5vrXvMBEOG",
        "colab": {
          "base_uri": "https://localhost:8080/"
        },
        "outputId": "e48ec67c-2996-4b1d-fd44-bd81cc908fff"
      },
      "execution_count": 4,
      "outputs": [
        {
          "output_type": "stream",
          "name": "stdout",
          "text": [
            "Accuracy: 0.8585838208593908\n",
            "Classification Report:\n",
            "               precision    recall  f1-score   support\n",
            "\n",
            "           0       0.32      0.22      0.26       290\n",
            "           1       0.90      0.94      0.92      3832\n",
            "           2       0.79      0.72      0.75       835\n",
            "\n",
            "    accuracy                           0.86      4957\n",
            "   macro avg       0.67      0.63      0.64      4957\n",
            "weighted avg       0.85      0.86      0.85      4957\n",
            "\n"
          ]
        }
      ]
    }
  ]
}