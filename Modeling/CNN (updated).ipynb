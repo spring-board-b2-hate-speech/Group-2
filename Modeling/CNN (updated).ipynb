{
  "nbformat": 4,
  "nbformat_minor": 0,
  "metadata": {
    "colab": {
      "provenance": []
    },
    "kernelspec": {
      "name": "python3",
      "display_name": "Python 3"
    },
    "language_info": {
      "name": "python"
    }
  },
  "cells": [
    {
      "cell_type": "markdown",
      "source": [
        "# **CNN Model**"
      ],
      "metadata": {
        "id": "Zwz-4c3SwOAF"
      }
    },
    {
      "cell_type": "code",
      "execution_count": 1,
      "metadata": {
        "id": "XU4HE4rW0roN",
        "colab": {
          "base_uri": "https://localhost:8080/"
        },
        "outputId": "6f0dae82-d599-4504-aaec-634052ecfd07"
      },
      "outputs": [
        {
          "output_type": "stream",
          "name": "stdout",
          "text": [
            "Original DataFrame:\n",
            "   Unnamed: 0  count  hate_speech  offensive_language  neither  class  \\\n",
            "0           0      3            0                   0        3      1   \n",
            "1           1      3            0                   3        0      0   \n",
            "2           2      3            0                   3        0      0   \n",
            "3           3      3            0                   2        1      0   \n",
            "4           4      6            0                   6        0      0   \n",
            "\n",
            "                                               tweet  \\\n",
            "0  retweet as a woman you should not complain abo...   \n",
            "1  retweet boy dats coldtyga down bad for cuffin ...   \n",
            "2  retweet dawg retweet you ever fuck a bitch and...   \n",
            "3                     retweet she look like a tranny   \n",
            "4  retweet the shit you hear about me might be tr...   \n",
            "\n",
            "                                        tweet_tokens  \n",
            "0  ['retweet', 'woman', 'complain', 'cleaning', '...  \n",
            "1  ['retweet', 'boy', 'dat', 'coldtyga', 'bad', '...  \n",
            "2  ['retweet', 'dawg', 'retweet', 'ever', 'fuck',...  \n",
            "3              ['retweet', 'look', 'like', 'tranny']  \n",
            "4  ['retweet', 'shit', 'hear', 'might', 'true', '...  \n"
          ]
        }
      ],
      "source": [
        "import pandas as pd\n",
        "import numpy as np\n",
        "import ast\n",
        "from sklearn.feature_extraction.text import TfidfVectorizer\n",
        "from sklearn.model_selection import train_test_split\n",
        "from tensorflow.keras.models import Sequential\n",
        "from tensorflow.keras.layers import Dense, Dropout, LSTM, Conv1D, MaxPooling1D, Flatten\n",
        "from tensorflow.keras.optimizers import Adam\n",
        "from tensorflow.keras.callbacks import EarlyStopping\n",
        "from sklearn.preprocessing import LabelEncoder\n",
        "from tensorflow.keras.utils import to_categorical\n",
        "from imblearn.over_sampling import SMOTE\n",
        "from tensorflow.keras.layers import Input, Flatten, SpatialDropout1D, Bidirectional, Reshape\n",
        "from sklearn.metrics import accuracy_score, classification_report\n",
        "\n",
        "# Load the dataset\n",
        "df = pd.read_csv('/content/cleaned_dataset_updated.csv')\n",
        "\n",
        "# Display the first few rows to verify\n",
        "print(\"Original DataFrame:\")\n",
        "print(df.head())\n",
        " # Use the 'tweet' column for text data\n",
        "X = df['tweet']\n",
        "# Use the 'class' column for labels\n",
        "y = df['class']\n",
        "\n",
        "\n",
        "X_train, X_test, y_train, y_test = train_test_split(X, y, test_size=0.2, random_state=42, stratify=y)\n",
        "# Handle missing values in 'tweet' column\n",
        "df['tweet'] = df['tweet'].fillna('')  # Replace NaN with empty strings\n",
        "\n",
        "\n",
        "\n",
        "X_train, X_test, y_train, y_test = train_test_split(X, y, test_size=0.2, random_state=42, stratify=y)\n",
        "# Use TfidfVectorizer for the 'tweet_tokens' column\n",
        "tfidf = TfidfVectorizer()\n",
        "X_tfidf = tfidf.fit_transform(df['tweet'])\n",
        "\n",
        "# Encode target labels\n",
        "label_encoder = LabelEncoder()\n",
        "y_encoded = label_encoder.fit_transform(y)\n",
        "\n",
        "# Handle class imbalance by converting labels to one-hot encoding\n",
        "y_categorical = to_categorical(y_encoded)"
      ]
    },
    {
      "cell_type": "code",
      "source": [
        "# Define CNN model\n",
        "model = Sequential()\n",
        "model.add(Dense(512, activation='relu', input_shape=(X_tfidf.shape[1],)))\n",
        "model.add(Reshape((512, 1)))\n",
        "model.add(Conv1D(filters=64, kernel_size=5, activation='relu'))\n",
        "model.add(MaxPooling1D(pool_size=2))\n",
        "model.add(Conv1D(filters=32,kernel_size=5,activation='relu'))\n",
        "model.add(MaxPooling1D(pool_size=2))\n",
        "model.add(Flatten()) # Flatten the output from MaxPooling1D\n",
        "model.add(Dense(64, activation='relu'))\n",
        "\n",
        "model.add(Dense(2, activation='softmax'))\n",
        "# Compile the model\n",
        "model.compile(loss='categorical_crossentropy', optimizer=Adam(lr=0.001), metrics=['accuracy'])\n",
        "\n",
        "# Define early stopping callback\n",
        "early_stopping = EarlyStopping(monitor='val_accuracy', patience=5, min_delta=0.001)\n",
        "\n",
        "# Sort the indices of the sparse matrix\n",
        "X_tfidf.sort_indices()\n",
        "\n",
        "# Split data into training and validation sets\n",
        "X_train, X_val, y_train, y_val = train_test_split(X_tfidf, y_categorical, test_size=0.2, random_state=42)\n",
        "\n",
        "# Train the model\n",
        "history = model.fit(X_train, y_train, epochs=10, batch_size=32,\n",
        "                    validation_data=(X_val, y_val),\n",
        "                    callbacks=[early_stopping],\n",
        "                    verbose=1)\n",
        "\n",
        "# Evaluate the model on the validation set\n",
        "loss, accuracy = model.evaluate(X_val, y_val)\n",
        "print(f'Validation accuracy: {accuracy:.3f}')\n"
      ],
      "metadata": {
        "colab": {
          "base_uri": "https://localhost:8080/"
        },
        "id": "2Fmd0bVJrVm9",
        "outputId": "edb78e95-8a07-4104-e42b-430a11b0d183"
      },
      "execution_count": 4,
      "outputs": [
        {
          "output_type": "stream",
          "name": "stderr",
          "text": [
            "WARNING:absl:`lr` is deprecated in Keras optimizer, please use `learning_rate` or use the legacy optimizer, e.g.,tf.keras.optimizers.legacy.Adam.\n"
          ]
        },
        {
          "output_type": "stream",
          "name": "stdout",
          "text": [
            "Epoch 1/10\n",
            "620/620 [==============================] - 239s 383ms/step - loss: 0.2085 - accuracy: 0.9128 - val_loss: 0.1690 - val_accuracy: 0.9300\n",
            "Epoch 2/10\n",
            "620/620 [==============================] - 203s 327ms/step - loss: 0.0676 - accuracy: 0.9767 - val_loss: 0.1840 - val_accuracy: 0.9256\n",
            "Epoch 3/10\n",
            "620/620 [==============================] - 204s 328ms/step - loss: 0.0265 - accuracy: 0.9914 - val_loss: 0.2182 - val_accuracy: 0.9252\n",
            "Epoch 4/10\n",
            "620/620 [==============================] - 215s 347ms/step - loss: 0.0117 - accuracy: 0.9965 - val_loss: 0.3140 - val_accuracy: 0.9274\n",
            "Epoch 5/10\n",
            "620/620 [==============================] - 203s 327ms/step - loss: 0.0067 - accuracy: 0.9976 - val_loss: 0.3178 - val_accuracy: 0.9239\n",
            "Epoch 6/10\n",
            "620/620 [==============================] - 203s 327ms/step - loss: 0.0043 - accuracy: 0.9980 - val_loss: 0.4345 - val_accuracy: 0.9260\n",
            "155/155 [==============================] - 2s 14ms/step - loss: 0.4345 - accuracy: 0.9260\n",
            "Validation accuracy: 0.926\n"
          ]
        }
      ]
    },
    {
      "cell_type": "code",
      "source": [
        "# Predict probabilities on the validation set\n",
        "y_pred_probs = model.predict(X_val)\n",
        "\n",
        "# Get predicted labels (class with highest probability)\n",
        "y_pred = np.argmax(y_pred_probs, axis=1)\n",
        "\n",
        "# Inverse transform encoded true labels to original form\n",
        "y_val_original = np.argmax(y_val, axis=1)"
      ],
      "metadata": {
        "colab": {
          "base_uri": "https://localhost:8080/"
        },
        "id": "lQ_q5mZ21ZCI",
        "outputId": "2dd678c0-1606-46a9-bbd4-bebe399fdf15"
      },
      "execution_count": 5,
      "outputs": [
        {
          "output_type": "stream",
          "name": "stdout",
          "text": [
            "155/155 [==============================] - 3s 17ms/step\n"
          ]
        }
      ]
    },
    {
      "cell_type": "code",
      "source": [
        "# Extracting metrics separately\n",
        "print(\"Accuracy:\", accuracy_score(y_val_original, y_pred))\n",
        "print(\"Classification Report:\\n\", classification_report(y_val_original, y_pred))\n",
        "\n",
        "accuracy = accuracy_score(y_val_original, y_pred)\n",
        "\n",
        "classification_report_dict = classification_report(y_val_original, y_pred, output_dict=True)\n",
        "precision = classification_report_dict['weighted avg']['precision']\n",
        "recall = classification_report_dict['weighted avg']['recall']\n",
        "f1_score = classification_report_dict['weighted avg']['f1-score']"
      ],
      "metadata": {
        "colab": {
          "base_uri": "https://localhost:8080/"
        },
        "id": "bokQ13Ws1dLn",
        "outputId": "329fb393-36d3-40ce-dcd1-7fa9ba67ba2b"
      },
      "execution_count": 6,
      "outputs": [
        {
          "output_type": "stream",
          "name": "stdout",
          "text": [
            "Accuracy: 0.9259632842445027\n",
            "Classification Report:\n",
            "               precision    recall  f1-score   support\n",
            "\n",
            "           0       0.95      0.96      0.96      4122\n",
            "           1       0.79      0.76      0.78       835\n",
            "\n",
            "    accuracy                           0.93      4957\n",
            "   macro avg       0.87      0.86      0.87      4957\n",
            "weighted avg       0.93      0.93      0.93      4957\n",
            "\n"
          ]
        }
      ]
    }
  ]
}