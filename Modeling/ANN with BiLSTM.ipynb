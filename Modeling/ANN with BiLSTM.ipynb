{
  "nbformat": 4,
  "nbformat_minor": 0,
  "metadata": {
    "colab": {
      "provenance": []
    },
    "kernelspec": {
      "name": "python3",
      "display_name": "Python 3"
    },
    "language_info": {
      "name": "python"
    }
  },
  "cells": [
    {
      "cell_type": "markdown",
      "source": [
        "# **ANN Model with BiLSTM**"
      ],
      "metadata": {
        "id": "zIjzN7vfbrTI"
      }
    },
    {
      "cell_type": "code",
      "execution_count": 1,
      "metadata": {
        "colab": {
          "base_uri": "https://localhost:8080/"
        },
        "id": "YGRpsPhkvhrw",
        "outputId": "52a20adf-30ac-436d-cd04-65c7782bb85a"
      },
      "outputs": [
        {
          "output_type": "stream",
          "name": "stdout",
          "text": [
            "Original DataFrame:\n",
            "   Unnamed: 0  count  hate_speech  offensive_language  neither  class  \\\n",
            "0           0      3            0                   0        3      2   \n",
            "1           1      3            0                   3        0      1   \n",
            "2           2      3            0                   3        0      1   \n",
            "3           3      3            0                   2        1      1   \n",
            "4           4      6            0                   6        0      1   \n",
            "\n",
            "                                               tweet  \\\n",
            "0  retweet as a woman you should not complain abo...   \n",
            "1  retweet boy dats coldtyga down bad for cuffin ...   \n",
            "2  retweet dawg retweet you ever fuck a bitch and...   \n",
            "3                     retweet she look like a tranny   \n",
            "4  retweet the shit you hear about me might be tr...   \n",
            "\n",
            "                                        tweet_tokens  \n",
            "0  ['retweet', 'woman', 'complain', 'cleaning', '...  \n",
            "1  ['retweet', 'boy', 'dat', 'coldtyga', 'bad', '...  \n",
            "2  ['retweet', 'dawg', 'retweet', 'ever', 'fuck',...  \n",
            "3              ['retweet', 'look', 'like', 'tranny']  \n",
            "4  ['retweet', 'shit', 'hear', 'might', 'true', '...  \n"
          ]
        }
      ],
      "source": [
        "\n",
        "\n",
        "import pandas as pd\n",
        "import numpy as np\n",
        "import ast\n",
        "from sklearn.feature_extraction.text import TfidfVectorizer\n",
        "from sklearn.model_selection import train_test_split\n",
        "from tensorflow.keras.models import Sequential\n",
        "from tensorflow.keras.layers import Dense, Dropout, LSTM\n",
        "from tensorflow.keras.optimizers import Adam\n",
        "from tensorflow.keras.callbacks import EarlyStopping\n",
        "from sklearn.preprocessing import LabelEncoder\n",
        "from tensorflow.keras.utils import to_categorical\n",
        "from imblearn.over_sampling import SMOTE\n",
        "from tensorflow.keras.layers import Input, Flatten, SpatialDropout1D, Bidirectional, Reshape\n",
        "from sklearn.metrics import accuracy_score, classification_report\n",
        "\n",
        "\n",
        "\n",
        "\n",
        "\n",
        "# Load the dataset\n",
        "df = pd.read_csv('/content/cleaned_dataset (1).csv')\n",
        "\n",
        "# Display the first few rows to verify\n",
        "print(\"Original DataFrame:\")\n",
        "print(df.head())\n",
        " # Use the 'tweet' column for text data\n",
        "X = df['tweet']\n",
        "# Use the 'class' column for labels\n",
        "y = df['class']\n",
        "\n",
        "\n",
        "X_train, X_test, y_train, y_test = train_test_split(X, y, test_size=0.2, random_state=42, stratify=y)\n",
        "# Handle missing values in 'tweet' column\n",
        "df['tweet'] = df['tweet'].fillna('')  # Replace NaN with empty strings\n",
        "\n",
        "\n",
        "\n",
        "X_train, X_test, y_train, y_test = train_test_split(X, y, test_size=0.2, random_state=42, stratify=y)\n",
        "# Use TfidfVectorizer for the 'tweet_tokens' column\n",
        "tfidf = TfidfVectorizer()\n",
        "X_tfidf = tfidf.fit_transform(df['tweet'])\n",
        "\n",
        "# Encode target labels\n",
        "label_encoder = LabelEncoder()\n",
        "y_encoded = label_encoder.fit_transform(y)\n",
        "\n",
        "# Handle class imbalance by converting labels to one-hot encoding\n",
        "y_categorical = to_categorical(y_encoded)"
      ]
    },
    {
      "cell_type": "code",
      "source": [
        "\n",
        "# Define the ANN model with BiLSTM\n",
        "\n",
        "model = Sequential()\n",
        "model.add(Dense(512, activation='relu', input_shape=(X_tfidf.shape[1],)))\n",
        "model.add(Dropout(0.2))\n",
        "model.add(Dense(512, activation='relu'))\n",
        "model.add(Dense(64, activation='relu'))\n",
        "model.add(Dense(32, activation='relu'))\n",
        "model.add(Dropout(0.2))\n",
        "# Reshape the output of the Dense layer to be compatible with LSTM\n",
        "model.add(Reshape((1, 32)))  # Assuming 32 is the output dimension of the previous Dense layer\n",
        "model.add(Bidirectional(LSTM(100, dropout=0.2, recurrent_dropout=0.2)))\n",
        "model.add(Dense(y_categorical.shape[1], activation='softmax'))\n",
        "\n",
        "# Compile the model\n",
        "model.compile(loss='categorical_crossentropy', optimizer=Adam(lr=0.001), metrics=['accuracy'])\n",
        "\n",
        "# Define early stopping callback\n",
        "early_stopping = EarlyStopping(monitor='val_accuracy', patience=5, min_delta=0.001)\n",
        "\n",
        "# Sort the indices of the sparse matrix\n",
        "X_tfidf.sort_indices()\n",
        "\n",
        "# Split data into training and validation sets\n",
        "X_train, X_val, y_train, y_val = train_test_split(X_tfidf, y_categorical, test_size=0.2, random_state=42)\n",
        "\n",
        "# Train the model\n",
        "history = model.fit(X_train, y_train, epochs=10, batch_size=32,\n",
        "                    validation_data=(X_val, y_val),\n",
        "                    callbacks=[early_stopping],\n",
        "                    verbose=1)\n",
        "\n",
        "# Evaluate the model on the validation set\n",
        "loss, accuracy = model.evaluate(X_val, y_val)\n",
        "print(f'Validation accuracy: {accuracy:.3f}')"
      ],
      "metadata": {
        "colab": {
          "base_uri": "https://localhost:8080/"
        },
        "id": "Ooe5BVFNv5wg",
        "outputId": "2aef8d23-e69a-486f-ea80-b9cfb421766d"
      },
      "execution_count": 6,
      "outputs": [
        {
          "output_type": "stream",
          "name": "stderr",
          "text": [
            "WARNING:absl:`lr` is deprecated in Keras optimizer, please use `learning_rate` or use the legacy optimizer, e.g.,tf.keras.optimizers.legacy.Adam.\n"
          ]
        },
        {
          "output_type": "stream",
          "name": "stdout",
          "text": [
            "Epoch 1/10\n",
            "620/620 [==============================] - 190s 293ms/step - loss: 0.4212 - accuracy: 0.8512 - val_loss: 0.3267 - val_accuracy: 0.8816\n",
            "Epoch 2/10\n",
            "620/620 [==============================] - 178s 287ms/step - loss: 0.2114 - accuracy: 0.9241 - val_loss: 0.3659 - val_accuracy: 0.8771\n",
            "Epoch 3/10\n",
            "620/620 [==============================] - 195s 314ms/step - loss: 0.1115 - accuracy: 0.9603 - val_loss: 0.4540 - val_accuracy: 0.8662\n",
            "Epoch 4/10\n",
            "620/620 [==============================] - 177s 285ms/step - loss: 0.0573 - accuracy: 0.9787 - val_loss: 0.5896 - val_accuracy: 0.8731\n",
            "Epoch 5/10\n",
            "620/620 [==============================] - 180s 290ms/step - loss: 0.0346 - accuracy: 0.9884 - val_loss: 0.5954 - val_accuracy: 0.8701\n",
            "Epoch 6/10\n",
            "620/620 [==============================] - 179s 288ms/step - loss: 0.0218 - accuracy: 0.9925 - val_loss: 0.6637 - val_accuracy: 0.8731\n",
            "155/155 [==============================] - 1s 6ms/step - loss: 0.6637 - accuracy: 0.8731\n",
            "Validation accuracy: 0.873\n"
          ]
        }
      ]
    },
    {
      "cell_type": "code",
      "source": [
        "# Predict probabilities on the validation set\n",
        "y_pred_probs = model.predict(X_val)\n",
        "\n",
        "# Get predicted labels (class with highest probability)\n",
        "y_pred = np.argmax(y_pred_probs, axis=1)\n",
        "\n",
        "# Inverse transform encoded true labels to original form\n",
        "y_val_original = np.argmax(y_val, axis=1)"
      ],
      "metadata": {
        "colab": {
          "base_uri": "https://localhost:8080/"
        },
        "id": "-nbT_n99Jr4r",
        "outputId": "c8fee89d-701a-4877-d474-255433d5528c"
      },
      "execution_count": 7,
      "outputs": [
        {
          "output_type": "stream",
          "name": "stdout",
          "text": [
            "155/155 [==============================] - 1s 5ms/step\n"
          ]
        }
      ]
    },
    {
      "cell_type": "code",
      "source": [
        "# Extracting metrics separately\n",
        "print(\"Accuracy:\", accuracy_score(y_val_original, y_pred))\n",
        "print(\"Classification Report:\\n\", classification_report(y_val_original, y_pred))\n",
        "\n",
        "accuracy = accuracy_score(y_val_original, y_pred)\n",
        "\n",
        "classification_report_dict = classification_report(y_val_original, y_pred, output_dict=True)\n",
        "precision = classification_report_dict['weighted avg']['precision']\n",
        "recall = classification_report_dict['weighted avg']['recall']\n",
        "f1_score = classification_report_dict['weighted avg']['f1-score']\n"
      ],
      "metadata": {
        "id": "WP5vrXvMBEOG",
        "colab": {
          "base_uri": "https://localhost:8080/"
        },
        "outputId": "e485b3d5-a307-48c0-c882-43d708f506d8"
      },
      "execution_count": 8,
      "outputs": [
        {
          "output_type": "stream",
          "name": "stdout",
          "text": [
            "Accuracy: 0.8731087351220497\n",
            "Classification Report:\n",
            "               precision    recall  f1-score   support\n",
            "\n",
            "           0       0.34      0.16      0.22       290\n",
            "           1       0.91      0.94      0.93      3832\n",
            "           2       0.78      0.81      0.80       835\n",
            "\n",
            "    accuracy                           0.87      4957\n",
            "   macro avg       0.68      0.64      0.65      4957\n",
            "weighted avg       0.86      0.87      0.86      4957\n",
            "\n"
          ]
        }
      ]
    }
  ]
}