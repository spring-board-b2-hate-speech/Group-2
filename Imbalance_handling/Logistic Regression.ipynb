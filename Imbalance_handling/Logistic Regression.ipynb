{
 "cells": [
  {
   "cell_type": "code",
   "execution_count": 6,
   "id": "d70fc8df-92f2-49d6-9ac8-ca291de0f500",
   "metadata": {},
   "outputs": [
    {
     "name": "stdout",
     "output_type": "stream",
     "text": [
      "   hate_speech  offensive_language  neither  class  \\\n",
      "0            0                   0        3      2   \n",
      "1            0                   3        0      1   \n",
      "2            0                   3        0      1   \n",
      "3            0                   2        1      1   \n",
      "4            0                   6        0      1   \n",
      "\n",
      "                                               tweet  \\\n",
      "0  retwet as a woman you should not complain abou...   \n",
      "1  retwet boy dats coldtyga dwn bad for cufin dat...   \n",
      "2  retwet dawg retwet you ever fuck a bitch and s...   \n",
      "3                        retwet she lok like a trany   \n",
      "4  retwet the shit you hear about me might be tru...   \n",
      "\n",
      "                                              tokens  \n",
      "0  ['retwet', 'woman', 'complain', 'cleaning', 'h...  \n",
      "1  ['retwet', 'boy', 'dat', 'coldtyga', 'dwn', 'b...  \n",
      "2  ['retwet', 'dawg', 'retwet', 'ever', 'fuck', '...  \n",
      "3                 ['retwet', 'lok', 'like', 'trany']  \n",
      "4  ['retwet', 'shit', 'hear', 'might', 'true', 'm...  \n"
     ]
    }
   ],
   "source": [
    "import pandas as pd\n",
    "from sklearn.model_selection import train_test_split\n",
    "from sklearn.pipeline import Pipeline\n",
    "from sklearn.preprocessing import StandardScaler\n",
    "from sklearn.linear_model import LogisticRegression\n",
    "from sklearn.metrics import accuracy_score, classification_report, confusion_matrix\n",
    "from sklearn.feature_extraction.text import TfidfVectorizer\n",
    "from imblearn.over_sampling import SMOTE\n",
    "import seaborn as sns\n",
    "import matplotlib.pyplot as plt\n",
    "\n",
    "# Load and preprocess data\n",
    "data = pd.read_csv('new_processed_dataset.csv')\n",
    "print(data.head())\n",
    "data.drop_duplicates(inplace=True)\n",
    "data.dropna(inplace=True)\n",
    "\n",
    "X = data['tweet']  # Use the 'tweet' column for text data\n",
    "y = data['class']  # Use the 'class' column for labels\n",
    "\n",
    "# Split data\n",
    "X_train, X_test, y_train, y_test = train_test_split(X, y, test_size=0.2, random_state=42, stratify=y)\n"
   ]
  },
  {
   "cell_type": "code",
   "execution_count": 9,
   "id": "b40b6afe-45c1-43d1-8bf3-2e3d9af44f86",
   "metadata": {},
   "outputs": [],
   "source": [
    "# TF-IDF Vectorization\n",
    "tfidf = TfidfVectorizer(max_features=1000)\n",
    "X_train_tfidf = tfidf.fit_transform(X_train)\n",
    "X_test_tfidf = tfidf.transform(X_test)"
   ]
  },
  {
   "cell_type": "code",
   "execution_count": 10,
   "id": "9b97f5d7-1f0f-4a37-87de-cb933a652764",
   "metadata": {},
   "outputs": [],
   "source": [
    "# Handle class imbalance with SMOTE\n",
    "smote = SMOTE(random_state=42)\n",
    "X_train_resampled, y_train_resampled = smote.fit_resample(X_train_tfidf, y_train)"
   ]
  },
  {
   "cell_type": "code",
   "execution_count": 13,
   "id": "d645f995-8a4b-4662-87c4-639869d043a2",
   "metadata": {},
   "outputs": [
    {
     "name": "stdout",
     "output_type": "stream",
     "text": [
      "TF-IDF Encoding with Logistic Regression\n",
      "Accuracy: 0.8129981606376456\n",
      "Classification Report:\n",
      "               precision    recall  f1-score   support\n",
      "\n",
      "           0       0.22      0.48      0.30       281\n",
      "           1       0.94      0.84      0.89      3790\n",
      "           2       0.75      0.81      0.78       822\n",
      "\n",
      "    accuracy                           0.81      4893\n",
      "   macro avg       0.64      0.71      0.65      4893\n",
      "weighted avg       0.87      0.81      0.83      4893\n",
      "\n",
      "Accuracy: 0.8129981606376456\n",
      "Precision: 0.866921680479108\n",
      "Recall: 0.8129981606376456\n",
      "F1 Score: 0.8345771726709821\n"
     ]
    }
   ],
   "source": [
    "# Logistic Regression Pipeline\n",
    "pipeline_tfidf = Pipeline([\n",
    "    ('scaler', StandardScaler(with_mean=False)),  # StandardScaler does not support sparse matrix if with_mean=True\n",
    "    ('classifier', LogisticRegression(max_iter=1000))\n",
    "])\n",
    "\n",
    "# Train and evaluate the model\n",
    "pipeline_tfidf.fit(X_train_resampled, y_train_resampled)\n",
    "y_pred_tfidf = pipeline_tfidf.predict(X_test_tfidf)\n",
    "\n",
    "print(\"TF-IDF Encoding with Logistic Regression\")\n",
    "print(\"Accuracy:\", accuracy_score(y_test, y_pred_tfidf))\n",
    "print(\"Classification Report:\\n\", classification_report(y_test, y_pred_tfidf))\n",
    "\n",
    "# Extracting metrics separately\n",
    "accuracy = accuracy_score(y_test, y_pred_tfidf)\n",
    "classification_report_dict = classification_report(y_test, y_pred_tfidf, output_dict=True)\n",
    "precision = classification_report_dict['weighted avg']['precision']\n",
    "recall = classification_report_dict['weighted avg']['recall']\n",
    "f1_score = classification_report_dict['weighted avg']['f1-score']\n",
    "\n",
    "print(f\"Accuracy: {accuracy}\")\n",
    "print(f\"Precision: {precision}\")\n",
    "print(f\"Recall: {recall}\")\n",
    "print(f\"F1 Score: {f1_score}\")"
   ]
  },
  {
   "cell_type": "code",
   "execution_count": 14,
   "id": "def39b04-2a80-45fd-8501-eef276885e76",
   "metadata": {},
   "outputs": [
    {
     "name": "stdout",
     "output_type": "stream",
     "text": [
      "Confusion Matrix:\n",
      " [[ 136  101   44]\n",
      " [ 437 3177  176]\n",
      " [  56  101  665]]\n"
     ]
    },
    {
     "data": {
      "image/png": "[encoded data removed]",
      "text/plain": [
       "<Figure size 640x480 with 2 Axes>"
      ]
     },
     "metadata": {},
     "output_type": "display_data"
    }
   ],
   "source": [
    "\n",
    "# Confusion Matrix\n",
    "cm = confusion_matrix(y_test, y_pred_tfidf)\n",
    "print(\"Confusion Matrix:\\n\", cm)\n",
    "\n",
    "# Plot confusion matrix\n",
    "sns.heatmap(cm, annot=True, fmt='d', cmap='Blues')\n",
    "plt.xlabel('Predicted')\n",
    "plt.ylabel('True')\n",
    "plt.title('Confusion Matrix')\n",
    "plt.show()"
   ]
  },
  {
   "cell_type": "code",
   "execution_count": null,
   "id": "5bd5d45b-334f-4e24-a1d8-b794552c69fe",
   "metadata": {},
   "outputs": [],
   "source": []
  }
 ],
 "metadata": {
  "kernelspec": {
   "display_name": "Python 3 (ipykernel)",
   "language": "python",
   "name": "python3"
  },
  "language_info": {
   "codemirror_mode": {
    "name": "ipython",
    "version": 3
   },
   "file_extension": ".py",
   "mimetype": "text/x-python",
   "name": "python",
   "nbconvert_exporter": "python",
   "pygments_lexer": "ipython3",
   "version": "3.11.5"
  }
 },
 "nbformat": 4,
 "nbformat_minor": 5
}
