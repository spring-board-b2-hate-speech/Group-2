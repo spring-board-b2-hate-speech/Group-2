{
 "cells": [
  {
   "cell_type": "code",
   "execution_count": 11,
   "id": "464cb79c-55fb-498c-8998-90f221c23a8f",
   "metadata": {},
   "outputs": [
    {
     "name": "stdout",
     "output_type": "stream",
     "text": [
      "   hate_speech  offensive_language  neither  class  \\\n",
      "0            0                   0        3      2   \n",
      "1            0                   3        0      1   \n",
      "2            0                   3        0      1   \n",
      "3            0                   2        1      1   \n",
      "4            0                   6        0      1   \n",
      "\n",
      "                                               tweet  \\\n",
      "0  retwet as a woman you should not complain abou...   \n",
      "1  retwet boy dats coldtyga dwn bad for cufin dat...   \n",
      "2  retwet dawg retwet you ever fuck a bitch and s...   \n",
      "3                        retwet she lok like a trany   \n",
      "4  retwet the shit you hear about me might be tru...   \n",
      "\n",
      "                                              tokens  \n",
      "0  ['retwet', 'woman', 'complain', 'cleaning', 'h...  \n",
      "1  ['retwet', 'boy', 'dat', 'coldtyga', 'dwn', 'b...  \n",
      "2  ['retwet', 'dawg', 'retwet', 'ever', 'fuck', '...  \n",
      "3                 ['retwet', 'lok', 'like', 'trany']  \n",
      "4  ['retwet', 'shit', 'hear', 'might', 'true', 'm...  \n"
     ]
    }
   ],
   "source": [
    "import pandas as pd\n",
    "from sklearn.model_selection import train_test_split\n",
    "from sklearn.pipeline import Pipeline\n",
    "from sklearn.preprocessing import StandardScaler\n",
    "from sklearn.decomposition import PCA\n",
    "from sklearn.svm import SVC\n",
    "from sklearn.metrics import accuracy_score, classification_report, confusion_matrix\n",
    "from sklearn.feature_extraction.text import TfidfVectorizer\n",
    "from imblearn.over_sampling import SMOTE\n",
    "import seaborn as sns\n",
    "import matplotlib.pyplot as plt\n",
    "\n",
    "# Load and preprocess data\n",
    "data = pd.read_csv('new_processed_dataset.csv')\n",
    "print(data.head())\n",
    "data.drop_duplicates(inplace=True)\n",
    "data.dropna(inplace=True)\n",
    "\n",
    "X = data['tweet']  # Use the 'tweet' column for text data\n",
    "y = data['class']  # Use the 'class' column for labels\n",
    "\n",
    "# Split data\n",
    "X_train, X_test, y_train, y_test = train_test_split(X, y, test_size=0.2, random_state=42, stratify=y)\n"
   ]
  },
  {
   "cell_type": "code",
   "execution_count": 12,
   "id": "d70fc8df-92f2-49d6-9ac8-ca291de0f500",
   "metadata": {},
   "outputs": [],
   "source": [
    "# TF-IDF Vectorization\n",
    "tfidf = TfidfVectorizer(max_features=1000)\n",
    "X_train_tfidf = tfidf.fit_transform(X_train)\n",
    "X_test_tfidf = tfidf.transform(X_test)\n",
    "\n",
    "# Handle class imbalance with SMOTE\n",
    "smote = SMOTE(random_state=42)\n",
    "X_train_resampled, y_train_resampled = smote.fit_resample(X_train_tfidf, y_train)\n"
   ]
  },
  {
   "cell_type": "code",
   "execution_count": 13,
   "id": "8b607ee6-0fb8-4924-bea8-23f7e2e0f1e5",
   "metadata": {},
   "outputs": [
    {
     "name": "stdout",
     "output_type": "stream",
     "text": [
      "TF-IDF Encoding with SVM\n",
      "Accuracy: 0.7146944614755774\n",
      "Classification Report:\n",
      "               precision    recall  f1-score   support\n",
      "\n",
      "           0       0.16      0.48      0.24       281\n",
      "           1       0.91      0.74      0.82      3790\n",
      "           2       0.57      0.66      0.61       822\n",
      "\n",
      "    accuracy                           0.71      4893\n",
      "   macro avg       0.55      0.63      0.56      4893\n",
      "weighted avg       0.81      0.71      0.75      4893\n",
      "\n",
      "Accuracy: 0.7146944614755774\n",
      "Precision: 0.8116491548511986\n",
      "Recall: 0.7146944614755774\n",
      "F1 Score: 0.7513229964802813\n"
     ]
    }
   ],
   "source": [
    "# SVM Pipeline with PCA\n",
    "pipeline_svm = Pipeline([\n",
    "    ('scaler', StandardScaler(with_mean=False)),  # StandardScaler does not support sparse matrix if with_mean=True\n",
    "    ('pca', PCA(n_components=100)),  # Reduce dimensionality\n",
    "    ('classifier', SVC(kernel='linear'))\n",
    "])\n",
    "\n",
    "# Train and evaluate the model\n",
    "pipeline_svm.fit(X_train_resampled, y_train_resampled)\n",
    "y_pred_svm = pipeline_svm.predict(X_test_tfidf)\n",
    "\n",
    "print(\"TF-IDF Encoding with SVM\")\n",
    "print(\"Accuracy:\", accuracy_score(y_test, y_pred_svm))\n",
    "print(\"Classification Report:\\n\", classification_report(y_test, y_pred_svm))\n",
    "\n",
    "# Extracting metrics separately\n",
    "accuracy = accuracy_score(y_test, y_pred_svm)\n",
    "classification_report_dict = classification_report(y_test, y_pred_svm, output_dict=True)\n",
    "precision = classification_report_dict['weighted avg']['precision']\n",
    "recall = classification_report_dict['weighted avg']['recall']\n",
    "f1_score = classification_report_dict['weighted avg']['f1-score']\n",
    "\n",
    "print(f\"Accuracy: {accuracy}\")\n",
    "print(f\"Precision: {precision}\")\n",
    "print(f\"Recall: {recall}\")\n",
    "print(f\"F1 Score: {f1_score}\")\n"
   ]
  },
  {
   "cell_type": "code",
   "execution_count": 14,
   "id": "cd40b373-3a94-4152-a0b3-a945b08c8d39",
   "metadata": {},
   "outputs": [
    {
     "name": "stdout",
     "output_type": "stream",
     "text": [
      "Confusion Matrix:\n",
      " [[ 135  104   42]\n",
      " [ 602 2820  368]\n",
      " [ 114  166  542]]\n"
     ]
    },
    {
     "data": {
      "image/png": "[encoded data removed]",
      "text/plain": [
       "<Figure size 640x480 with 2 Axes>"
      ]
     },
     "metadata": {},
     "output_type": "display_data"
    }
   ],
   "source": [
    "# Confusion Matrix\n",
    "cm = confusion_matrix(y_test, y_pred_svm)\n",
    "print(\"Confusion Matrix:\\n\", cm)\n",
    "\n",
    "# Plot confusion matrix\n",
    "sns.heatmap(cm, annot=True, fmt='d', cmap='Blues')\n",
    "plt.xlabel('Predicted')\n",
    "plt.ylabel('True')\n",
    "plt.title('Confusion Matrix')\n",
    "plt.show()"
   ]
  },
  {
   "cell_type": "code",
   "execution_count": null,
   "id": "2262c238-f66a-44a1-a365-1459fd0291c3",
   "metadata": {},
   "outputs": [],
   "source": []
  }
 ],
 "metadata": {
  "kernelspec": {
   "display_name": "Python 3 (ipykernel)",
   "language": "python",
   "name": "python3"
  },
  "language_info": {
   "codemirror_mode": {
    "name": "ipython",
    "version": 3
   },
   "file_extension": ".py",
   "mimetype": "text/x-python",
   "name": "python",
   "nbconvert_exporter": "python",
   "pygments_lexer": "ipython3",
   "version": "3.11.5"
  }
 },
 "nbformat": 4,
 "nbformat_minor": 5
}
