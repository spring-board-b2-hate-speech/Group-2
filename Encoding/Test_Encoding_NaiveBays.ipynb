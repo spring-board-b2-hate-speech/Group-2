{
 "cells": [
  {
   "cell_type": "code",
   "execution_count": 18,
   "id": "c43129a1-1314-462b-9166-214c6663a9cd",
   "metadata": {},
   "outputs": [
    {
     "name": "stdout",
     "output_type": "stream",
     "text": [
      "   hate_speech  offensive_language  neither  class  \\\n",
      "0            0                   0        3      2   \n",
      "1            0                   3        0      1   \n",
      "2            0                   3        0      1   \n",
      "3            0                   2        1      1   \n",
      "4            0                   6        0      1   \n",
      "\n",
      "                                               tweet  \\\n",
      "0  retwet as a woman you should not complain abou...   \n",
      "1  retwet boy dats coldtyga dwn bad for cufin dat...   \n",
      "2  retwet dawg retwet you ever fuck a bitch and s...   \n",
      "3                        retwet she lok like a trany   \n",
      "4  retwet the shit you hear about me might be tru...   \n",
      "\n",
      "                                              tokens  \n",
      "0  ['retwet', 'woman', 'complain', 'cleaning', 'h...  \n",
      "1  ['retwet', 'boy', 'dat', 'coldtyga', 'dwn', 'b...  \n",
      "2  ['retwet', 'dawg', 'retwet', 'ever', 'fuck', '...  \n",
      "3                 ['retwet', 'lok', 'like', 'trany']  \n",
      "4  ['retwet', 'shit', 'hear', 'might', 'true', 'm...  \n"
     ]
    }
   ],
   "source": [
    "import pandas as pd\n",
    "from sklearn.model_selection import train_test_split\n",
    "from sklearn.pipeline import Pipeline\n",
    "from sklearn.preprocessing import StandardScaler\n",
    "from sklearn.naive_bayes import MultinomialNB, GaussianNB\n",
    "from sklearn.metrics import accuracy_score, classification_report, precision_score, recall_score, f1_score\n",
    "from sklearn.feature_extraction.text import CountVectorizer, TfidfVectorizer\n",
    "from gensim.models import Word2Vec\n",
    "import numpy as np\n",
    "from sklearn.base import BaseEstimator, TransformerMixin\n",
    "\n",
    "# Load and preprocess data\n",
    "data = pd.read_csv('new_processed_dataset.csv')\n",
    "print(data.head())\n",
    "data.drop_duplicates(inplace=True)\n",
    "data.dropna(inplace=True)\n",
    "\n",
    "X = data['tweet']  # Use the 'tweet' column for raw text data\n",
    "y = data['class']  # Use the 'class' column for label data\n",
    "\n",
    "# Split data\n",
    "X_train, X_test, y_train, y_test = train_test_split(X, y, test_size=0.2, random_state=42)\n",
    "\n",
    "# Function to print metrics\n",
    "def print_metrics(y_test, y_pred):\n",
    "    print(\"Accuracy:\", accuracy_score(y_test, y_pred))\n",
    "    print(\"Precision:\", precision_score(y_test, y_pred, average='weighted'))\n",
    "    print(\"Recall:\", recall_score(y_test, y_pred, average='weighted'))\n",
    "    print(\"F1 Score:\", f1_score(y_test, y_pred, average='weighted'))"
   ]
  },
  {
   "cell_type": "code",
   "execution_count": 19,
   "id": "6254f0a3-4ef6-43bc-b295-8baf782be21b",
   "metadata": {},
   "outputs": [
    {
     "name": "stdout",
     "output_type": "stream",
     "text": [
      "One Hot Encoding with Naive Bayes\n",
      "Classification Report:\n",
      "               precision    recall  f1-score   support\n",
      "\n",
      "           0       0.46      0.27      0.34       285\n",
      "           1       0.91      0.95      0.93      3793\n",
      "           2       0.81      0.76      0.78       815\n",
      "\n",
      "    accuracy                           0.88      4893\n",
      "   macro avg       0.73      0.66      0.68      4893\n",
      "weighted avg       0.87      0.88      0.87      4893\n",
      "\n",
      "Accuracy: 0.8775802166360106\n",
      "Precision: 0.8655834300398574\n",
      "Recall: 0.8775802166360106\n",
      "F1 Score: 0.8696114134545931\n"
     ]
    }
   ],
   "source": [
    "# One-Hot Encoding Pipeline\n",
    "pipeline_ohe = Pipeline([\n",
    "    ('vectorizer', CountVectorizer(binary=True, max_features=1000)),\n",
    "    ('classifier', MultinomialNB())\n",
    "])\n",
    "\n",
    "# Train and evaluate the model\n",
    "pipeline_ohe.fit(X_train, y_train)\n",
    "y_pred_ohe = pipeline_ohe.predict(X_test)\n",
    "print(\"One Hot Encoding with Naive Bayes\")\n",
    "print(\"Classification Report:\\n\", classification_report(y_test, y_pred_ohe))\n",
    "print_metrics(y_test, y_pred_ohe)"
   ]
  },
  {
   "cell_type": "code",
   "execution_count": 20,
   "id": "0ee6211f-6497-4d7d-be98-c97f5177ea72",
   "metadata": {},
   "outputs": [
    {
     "name": "stdout",
     "output_type": "stream",
     "text": [
      "TF-IDF Encoding with Naive Bayes\n",
      "Classification Report:\n",
      "               precision    recall  f1-score   support\n",
      "\n",
      "           0       0.00      0.00      0.00       285\n",
      "           1       0.83      1.00      0.90      3793\n",
      "           2       0.91      0.38      0.53       815\n",
      "\n",
      "    accuracy                           0.83      4893\n",
      "   macro avg       0.58      0.46      0.48      4893\n",
      "weighted avg       0.79      0.83      0.79      4893\n",
      "\n",
      "Accuracy: 0.8340486409155937\n",
      "Precision: 0.793381501500123\n",
      "Recall: 0.8340486409155937\n",
      "F1 Score: 0.7895819888582178\n"
     ]
    }
   ],
   "source": [
    "# TF-IDF Encoding Pipeline\n",
    "pipeline_tfidf = Pipeline([\n",
    "    ('vectorizer', TfidfVectorizer(max_features=1000)),\n",
    "    ('classifier', MultinomialNB())\n",
    "])\n",
    "\n",
    "# Train and evaluate the model\n",
    "pipeline_tfidf.fit(X_train, y_train)\n",
    "y_pred_tfidf = pipeline_tfidf.predict(X_test)\n",
    "print(\"TF-IDF Encoding with Naive Bayes\")\n",
    "print(\"Classification Report:\\n\", classification_report(y_test, y_pred_tfidf))\n",
    "print_metrics(y_test, y_pred_tfidf)"
   ]
  },
  {
   "cell_type": "code",
   "execution_count": 22,
   "id": "5653e26b-fe8f-46b6-a966-bb4d3c8aac48",
   "metadata": {},
   "outputs": [
    {
     "name": "stdout",
     "output_type": "stream",
     "text": [
      "Word2Vec Encoding with Naive Bayes\n",
      "Classification Report:\n",
      "               precision    recall  f1-score   support\n",
      "\n",
      "           0       0.09      0.19      0.13       285\n",
      "           1       0.87      0.72      0.79      3793\n",
      "           2       0.42      0.62      0.50       815\n",
      "\n",
      "    accuracy                           0.67      4893\n",
      "   macro avg       0.46      0.51      0.47      4893\n",
      "weighted avg       0.75      0.67      0.70      4893\n",
      "\n",
      "Accuracy: 0.6711628857551605\n",
      "Precision: 0.7527806416336142\n",
      "Recall: 0.6711628857551605\n",
      "F1 Score: 0.7017245472209079\n"
     ]
    }
   ],
   "source": [
    "# Word2Vec Transformer\n",
    "class Word2VecTransformer(BaseEstimator, TransformerMixin):\n",
    "    def __init__(self, vector_size=100, window=5, min_count=1):\n",
    "        self.vector_size = vector_size\n",
    "        self.window = window\n",
    "        self.min_count = min_count\n",
    "        self.model = None\n",
    "\n",
    "    def fit(self, X, y=None):\n",
    "        tokenized_X = [tweet.split() for tweet in X]\n",
    "        self.model = Word2Vec(sentences=tokenized_X, vector_size=self.vector_size, window=self.window, min_count=self.min_count)\n",
    "        return self\n",
    "\n",
    "    def transform(self, X):\n",
    "        def get_word2vec_features(text):\n",
    "            words = text.split()\n",
    "            feature_vector = np.mean([self.model.wv[word] for word in words if word in self.model.wv] or [np.zeros(self.vector_size)], axis=0)\n",
    "            return feature_vector\n",
    "        \n",
    "        return np.array([get_word2vec_features(tweet) for tweet in X])\n",
    "\n",
    "# Word2Vec Encoding Pipeline\n",
    "pipeline_w2v = Pipeline([\n",
    "    ('word2vec', Word2VecTransformer(vector_size=100)),  # We reduced vector size for faster convergence\n",
    "    ('classifier', GaussianNB())\n",
    "])\n",
    "\n",
    "# Train and evaluate the model\n",
    "pipeline_w2v.fit(X_train, y_train)\n",
    "y_pred_w2v = pipeline_w2v.predict(X_test)\n",
    "print(\"Word2Vec Encoding with Naive Bayes\")\n",
    "print(\"Classification Report:\\n\", classification_report(y_test, y_pred_w2v))\n",
    "print_metrics(y_test, y_pred_w2v)"
   ]
  },
  {
   "cell_type": "code",
   "execution_count": 21,
   "id": "4f2f8846-81f1-472b-bf19-43d6472c8115",
   "metadata": {},
   "outputs": [
    {
     "name": "stdout",
     "output_type": "stream",
     "text": [
      "Term Frequency Encoding with Naive Bayes\n",
      "Classification Report:\n",
      "               precision    recall  f1-score   support\n",
      "\n",
      "           0       0.44      0.27      0.34       285\n",
      "           1       0.91      0.94      0.93      3793\n",
      "           2       0.80      0.76      0.78       815\n",
      "\n",
      "    accuracy                           0.87      4893\n",
      "   macro avg       0.72      0.66      0.68      4893\n",
      "weighted avg       0.86      0.87      0.87      4893\n",
      "\n",
      "Accuracy: 0.8745146127120376\n",
      "Precision: 0.8632751024350692\n",
      "Recall: 0.8745146127120376\n",
      "F1 Score: 0.8674222013334313\n"
     ]
    }
   ],
   "source": [
    "# Term Frequency Encoding Pipeline\n",
    "pipeline_tf = Pipeline([\n",
    "    ('vectorizer', CountVectorizer(max_features=1000)),\n",
    "    ('classifier', MultinomialNB())\n",
    "])\n",
    "\n",
    "# Train and evaluate the model\n",
    "pipeline_tf.fit(X_train, y_train)\n",
    "y_pred_tf = pipeline_tf.predict(X_test)\n",
    "print(\"Term Frequency Encoding with Naive Bayes\")\n",
    "print(\"Classification Report:\\n\", classification_report(y_test, y_pred_tf))\n",
    "print_metrics(y_test, y_pred_tf)"
   ]
  },
  {
   "cell_type": "code",
   "execution_count": null,
   "id": "3ba6dbd7-537e-41d2-abe0-6dcdc852f0b5",
   "metadata": {},
   "outputs": [],
   "source": []
  }
 ],
 "metadata": {
  "kernelspec": {
   "display_name": "Python 3 (ipykernel)",
   "language": "python",
   "name": "python3"
  },
  "language_info": {
   "codemirror_mode": {
    "name": "ipython",
    "version": 3
   },
   "file_extension": ".py",
   "mimetype": "text/x-python",
   "name": "python",
   "nbconvert_exporter": "python",
   "pygments_lexer": "ipython3",
   "version": "3.11.5"
  }
 },
 "nbformat": 4,
 "nbformat_minor": 5
}
