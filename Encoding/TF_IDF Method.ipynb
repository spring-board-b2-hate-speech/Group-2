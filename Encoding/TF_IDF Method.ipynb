{
  "nbformat": 4,
  "nbformat_minor": 0,
  "metadata": {
    "colab": {
      "provenance": []
    },
    "kernelspec": {
      "name": "python3",
      "display_name": "Python 3"
    },
    "language_info": {
      "name": "python"
    }
  },
  "cells": [
    {
      "cell_type": "code",
      "execution_count": null,
      "metadata": {
        "colab": {
          "base_uri": "https://localhost:8080/"
        },
        "id": "0E34gw7DD2W5",
        "outputId": "c7ed7da9-7f2a-45f9-f7c4-c04eb41fd12f"
      },
      "outputs": [
        {
          "output_type": "stream",
          "name": "stdout",
          "text": [
            "Original DataFrame:\n",
            "   hate_speech  offensive_language  neither  class  \\\n",
            "0            0                   0        3      2   \n",
            "1            0                   3        0      1   \n",
            "2            0                   3        0      1   \n",
            "3            0                   2        1      1   \n",
            "4            0                   6        0      1   \n",
            "\n",
            "                                               tweet  \\\n",
            "0  retwet as a woman you should not complain abou...   \n",
            "1  retwet boy dats coldtyga dwn bad for cufin dat...   \n",
            "2  retwet dawg retwet you ever fuck a bitch and s...   \n",
            "3                        retwet she lok like a trany   \n",
            "4  retwet the shit you hear about me might be tru...   \n",
            "\n",
            "                                        tweet_tokens  \n",
            "0  ['retwet', 'woman', 'complain', 'cleaning', 'h...  \n",
            "1  ['retwet', 'boy', 'dat', 'coldtyga', 'dwn', 'b...  \n",
            "2  ['retwet', 'dawg', 'retwet', 'ever', 'fuck', '...  \n",
            "3                 ['retwet', 'lok', 'like', 'trany']  \n",
            "4  ['retwet', 'shit', 'hear', 'might', 'true', 'm...  \n"
          ]
        }
      ],
      "source": [
        "import pandas as pd\n",
        "\n",
        "# Load the dataset\n",
        "# Replace with the actual path to your CSV file\n",
        "df = pd.read_csv('/content/cleaned_dataset_combined (2).csv')\n",
        "\n",
        "# Display the first few rows to verify\n",
        "print(\"Original DataFrame:\")\n",
        "print(df.head())\n"
      ]
    },
    {
      "cell_type": "code",
      "source": [
        "import ast\n",
        "\n",
        "# Convert string representation of list to actual list\n",
        "df['tweet_tokens'] = df['tweet_tokens'].apply(ast.literal_eval)\n",
        "\n",
        "# Display the first few rows to verify\n",
        "print(\"\\nDataFrame after converting tweet_tokens to lists:\")\n",
        "print(df.head())\n"
      ],
      "metadata": {
        "colab": {
          "base_uri": "https://localhost:8080/"
        },
        "id": "dY6Th98SD9-P",
        "outputId": "e31aa300-4f6c-45cf-d7a0-b0563c51d10e"
      },
      "execution_count": null,
      "outputs": [
        {
          "output_type": "stream",
          "name": "stdout",
          "text": [
            "\n",
            "DataFrame after converting tweet_tokens to lists:\n",
            "   hate_speech  offensive_language  neither  class  \\\n",
            "0            0                   0        3      2   \n",
            "1            0                   3        0      1   \n",
            "2            0                   3        0      1   \n",
            "3            0                   2        1      1   \n",
            "4            0                   6        0      1   \n",
            "\n",
            "                                               tweet  \\\n",
            "0  retwet as a woman you should not complain abou...   \n",
            "1  retwet boy dats coldtyga dwn bad for cufin dat...   \n",
            "2  retwet dawg retwet you ever fuck a bitch and s...   \n",
            "3                        retwet she lok like a trany   \n",
            "4  retwet the shit you hear about me might be tru...   \n",
            "\n",
            "                                        tweet_tokens  \n",
            "0  [retwet, woman, complain, cleaning, house, man...  \n",
            "1  [retwet, boy, dat, coldtyga, dwn, bad, cufin, ...  \n",
            "2  [retwet, dawg, retwet, ever, fuck, bitch, star...  \n",
            "3                         [retwet, lok, like, trany]  \n",
            "4  [retwet, shit, hear, might, true, might, faker...  \n"
          ]
        }
      ]
    },
    {
      "cell_type": "code",
      "source": [
        "# Define feature and target variables\n",
        "X = df[['hate_speech', 'offensive_language', 'neither', 'tweet_tokens']]\n",
        "y = df['class']\n"
      ],
      "metadata": {
        "id": "iY40yuMCD_sn"
      },
      "execution_count": null,
      "outputs": []
    },
    {
      "cell_type": "code",
      "source": [
        "from sklearn.feature_extraction.text import TfidfVectorizer\n",
        "from sklearn.compose import ColumnTransformer\n",
        "\n",
        "# Define a function to join tokens into a single string\n",
        "X['tweet_tokens'] = X['tweet_tokens'].apply(lambda x: ' '.join(x))\n",
        "\n",
        "# Use TfidfVectorizer for the 'tweet_tokens' column\n",
        "column_transformer = ColumnTransformer(\n",
        "    transformers=[\n",
        "        ('tweet_tokens', TfidfVectorizer(), 'tweet_tokens')\n",
        "    ],\n",
        "    remainder='passthrough'  # This keeps the other columns as is\n",
        ")\n"
      ],
      "metadata": {
        "colab": {
          "base_uri": "https://localhost:8080/"
        },
        "id": "v84rP9kNEBxk",
        "outputId": "75051bb9-f327-4fac-f820-6065fa198faa"
      },
      "execution_count": null,
      "outputs": [
        {
          "output_type": "stream",
          "name": "stderr",
          "text": [
            "<ipython-input-5-93c6994b220a>:5: SettingWithCopyWarning: \n",
            "A value is trying to be set on a copy of a slice from a DataFrame.\n",
            "Try using .loc[row_indexer,col_indexer] = value instead\n",
            "\n",
            "See the caveats in the documentation: https://pandas.pydata.org/pandas-docs/stable/user_guide/indexing.html#returning-a-view-versus-a-copy\n",
            "  X['tweet_tokens'] = X['tweet_tokens'].apply(lambda x: ' '.join(x))\n"
          ]
        }
      ]
    },
    {
      "cell_type": "code",
      "source": [
        "from sklearn.linear_model import LogisticRegression\n",
        "from sklearn.pipeline import make_pipeline\n",
        "\n",
        "# Create a Logistic Regression classifier pipeline\n",
        "pipeline = make_pipeline(column_transformer, LogisticRegression(max_iter=1000))\n"
      ],
      "metadata": {
        "id": "aU6unB6mFJ4k"
      },
      "execution_count": null,
      "outputs": []
    },
    {
      "cell_type": "code",
      "source": [
        "from sklearn.model_selection import train_test_split\n",
        "\n",
        "# Split the dataset into training and testing sets\n",
        "X_train, X_test, y_train, y_test = train_test_split(X, y, test_size=0.2, random_state=42)\n",
        "\n",
        "# Display the training data\n",
        "print(\"\\nTraining Data:\")\n",
        "print(X_train.head())\n",
        "print(y_train.head())\n",
        "\n",
        "# Display the testing data\n",
        "print(\"\\nTesting Data:\")\n",
        "print(X_test.head())\n",
        "print(y_test.head())\n"
      ],
      "metadata": {
        "colab": {
          "base_uri": "https://localhost:8080/"
        },
        "id": "7MO2ldrpEHSu",
        "outputId": "1415bef8-83b6-4577-c29d-50c863bbf535"
      },
      "execution_count": null,
      "outputs": [
        {
          "output_type": "stream",
          "name": "stdout",
          "text": [
            "\n",
            "Training Data:\n",
            "       hate_speech  offensive_language  neither  \\\n",
            "15272            2                   0        1   \n",
            "9351             0                   0        3   \n",
            "20323            0                   3        0   \n",
            "3638             0                   3        0   \n",
            "20579            0                   6        0   \n",
            "\n",
            "                                            tweet_tokens  \n",
            "15272  retwet wel else wil white people get u forget ...  \n",
            "9351   funy thing isit people people see pic judge bi...  \n",
            "20323  retwet niga mesed wrong bitch loudlycryingface...  \n",
            "3638                                          bitch niga  \n",
            "20579                                         real bitch  \n",
            "15272    0\n",
            "9351     2\n",
            "20323    1\n",
            "3638     1\n",
            "20579    1\n",
            "Name: class, dtype: int64\n",
            "\n",
            "Testing Data:\n",
            "       hate_speech  offensive_language  neither  \\\n",
            "2281             0                   3        0   \n",
            "15914            0                   3        0   \n",
            "18943            0                   1        2   \n",
            "16407            0                   3        0   \n",
            "13326            1                   2        0   \n",
            "\n",
            "                                            tweet_tokens  \n",
            "2281                              got mised cal yo bitch  \n",
            "15914       retwet fuck bad bitch go ned money lil homie  \n",
            "18943  retwet laugh loud credit near god know right m...  \n",
            "16407  retwet wipe cum fagot retwet contact lens wild...  \n",
            "13326  nigas cheat bitch expect pay back whatsoever a...  \n",
            "2281     1\n",
            "15914    1\n",
            "18943    2\n",
            "16407    1\n",
            "13326    1\n",
            "Name: class, dtype: int64\n"
          ]
        }
      ]
    },
    {
      "cell_type": "code",
      "source": [
        "# Train the model\n",
        "pipeline.fit(X_train, y_train)\n",
        "# Evaluate the model\n",
        "accuracy = pipeline.score(X_test, y_test)\n",
        "print(f'\\nAccuracy: {accuracy}')\n"
      ],
      "metadata": {
        "colab": {
          "base_uri": "https://localhost:8080/"
        },
        "id": "5k5FivTrEHWp",
        "outputId": "d7e41000-2227-4a7f-9d74-3f4f6f07c23d"
      },
      "execution_count": null,
      "outputs": [
        {
          "output_type": "stream",
          "name": "stdout",
          "text": [
            "\n",
            "Accuracy: 1.0\n"
          ]
        }
      ]
    },
    {
      "cell_type": "code",
      "source": [],
      "metadata": {
        "id": "Wb-wMcXrEfJ4"
      },
      "execution_count": null,
      "outputs": []
    }
  ]
}