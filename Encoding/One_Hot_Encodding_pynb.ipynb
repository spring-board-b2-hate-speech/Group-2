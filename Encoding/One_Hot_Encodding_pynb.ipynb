{
  "nbformat": 4,
  "nbformat_minor": 0,
  "metadata": {
    "colab": {
      "provenance": []
    },
    "kernelspec": {
      "name": "python3",
      "display_name": "Python 3"
    },
    "language_info": {
      "name": "python"
    }
  },
  "cells": [
    {
      "cell_type": "markdown",
      "source": [
        "## **One - Hot Encodding Method**"
      ],
      "metadata": {
        "id": "Dq34eaegX9X8"
      }
    },
    {
      "cell_type": "code",
      "execution_count": null,
      "metadata": {
        "colab": {
          "base_uri": "https://localhost:8080/"
        },
        "id": "_RyaqpvnUvcL",
        "outputId": "fc9db28a-0aea-477f-847d-5f0525f48774"
      },
      "outputs": [
        {
          "output_type": "stream",
          "name": "stdout",
          "text": [
            "   Unnamed: 0  count  hate_speech  offensive_language  neither  class  \\\n",
            "0           0      3            0                   0        3      2   \n",
            "1           1      3            0                   3        0      1   \n",
            "2           2      3            0                   3        0      1   \n",
            "3           3      3            0                   2        1      1   \n",
            "4           4      6            0                   6        0      1   \n",
            "\n",
            "                                               tweet  \\\n",
            "0  retweet as a woman you should not complain abo...   \n",
            "1  retweet boy dats coldtyga down bad for cuffin ...   \n",
            "2  retweet dawg retweet you ever fuck a bitch and...   \n",
            "3                     retweet she look like a tranny   \n",
            "4  retweet the shit you hear about me might be tr...   \n",
            "\n",
            "                                        tweet_tokens  \n",
            "0  ['retweet', 'woman', 'complain', 'cleaning', '...  \n",
            "1  ['retweet', 'boy', 'dat', 'coldtyga', 'bad', '...  \n",
            "2  ['retweet', 'dawg', 'retweet', 'ever', 'fuck',...  \n",
            "3              ['retweet', 'look', 'like', 'tranny']  \n",
            "4  ['retweet', 'shit', 'hear', 'might', 'true', '...  \n"
          ]
        }
      ],
      "source": [
        "import pandas as pd\n",
        "\n",
        "# Load the dataset\n",
        "df = pd.read_csv('/content/cleaned_dataset.csv')\n",
        "\n",
        "# Display the first few rows to verify\n",
        "print(df.head())\n"
      ]
    },
    {
      "cell_type": "code",
      "source": [
        "import ast\n",
        "\n",
        "# Convert string representation of list to actual list\n",
        "df['tweet_tokens'] = df['tweet_tokens'].apply(ast.literal_eval)\n",
        "# Display the first few rows to verify\n",
        "print(\"\\nDataFrame after converting tweet_tokens to lists:\")\n",
        "\n",
        "print(df.head())\n"
      ],
      "metadata": {
        "colab": {
          "base_uri": "https://localhost:8080/"
        },
        "id": "kOC2RNIgVWGb",
        "outputId": "5900e775-8154-49a3-aafb-4a87edff688a"
      },
      "execution_count": null,
      "outputs": [
        {
          "output_type": "stream",
          "name": "stdout",
          "text": [
            "\n",
            "DataFrame after converting tweet_tokens to lists:\n",
            "   Unnamed: 0  count  hate_speech  offensive_language  neither  class  \\\n",
            "0           0      3            0                   0        3      2   \n",
            "1           1      3            0                   3        0      1   \n",
            "2           2      3            0                   3        0      1   \n",
            "3           3      3            0                   2        1      1   \n",
            "4           4      6            0                   6        0      1   \n",
            "\n",
            "                                               tweet  \\\n",
            "0  retweet as a woman you should not complain abo...   \n",
            "1  retweet boy dats coldtyga down bad for cuffin ...   \n",
            "2  retweet dawg retweet you ever fuck a bitch and...   \n",
            "3                     retweet she look like a tranny   \n",
            "4  retweet the shit you hear about me might be tr...   \n",
            "\n",
            "                                        tweet_tokens  \n",
            "0  [retweet, woman, complain, cleaning, house, an...  \n",
            "1  [retweet, boy, dat, coldtyga, bad, cuffin, dat...  \n",
            "2  [retweet, dawg, retweet, ever, fuck, bitch, st...  \n",
            "3                      [retweet, look, like, tranny]  \n",
            "4  [retweet, shit, hear, might, true, might, fake...  \n"
          ]
        }
      ]
    },
    {
      "cell_type": "code",
      "source": [
        "# Define feature and target variables\n",
        "X = df[['tweet_tokens']]\n",
        "y = df['class']\n",
        "\n",
        "\n",
        "\n",
        "from sklearn.feature_extraction.text import CountVectorizer\n",
        "from sklearn.compose import ColumnTransformer\n",
        "\n",
        "# Define a function to join tokens into a single string\n",
        "X['tweet_tokens'] = X['tweet_tokens'].apply(lambda x: ' '.join(x))\n",
        "\n",
        "# Use CountVectorizer for the 'tweet_tokens' column\n",
        "column_transformer = ColumnTransformer(\n",
        "    transformers=[\n",
        "        ('tweet_tokens', CountVectorizer(), 'tweet_tokens')  # Note the use of CountVectorizer\n",
        "    ],\n",
        "    remainder='passthrough'  # This keeps the other columns as is\n",
        ")"
      ],
      "metadata": {
        "colab": {
          "base_uri": "https://localhost:8080/"
        },
        "id": "Qx46K0sVWeNv",
        "outputId": "1b977a7f-e34a-4709-edd7-b69153b7b8b2"
      },
      "execution_count": null,
      "outputs": [
        {
          "output_type": "stream",
          "name": "stderr",
          "text": [
            "<ipython-input-3-76cd7a50a8c6>:11: SettingWithCopyWarning: \n",
            "A value is trying to be set on a copy of a slice from a DataFrame.\n",
            "Try using .loc[row_indexer,col_indexer] = value instead\n",
            "\n",
            "See the caveats in the documentation: https://pandas.pydata.org/pandas-docs/stable/user_guide/indexing.html#returning-a-view-versus-a-copy\n",
            "  X['tweet_tokens'] = X['tweet_tokens'].apply(lambda x: ' '.join(x))\n"
          ]
        }
      ]
    },
    {
      "cell_type": "code",
      "source": [
        "from sklearn.ensemble import RandomForestClassifier\n",
        "from sklearn.pipeline import make_pipeline\n",
        "\n",
        "# Create a Random Forest Classifier pipeline\n",
        "pipeline = make_pipeline(column_transformer, RandomForestClassifier())\n",
        "\n",
        "\n",
        "\n",
        "from sklearn.model_selection import train_test_split\n",
        "\n",
        "# Split the dataset into training and testing sets\n",
        "X_train, X_test, y_train, y_test = train_test_split(X, y, test_size=0.2, random_state=42)\n",
        "\n",
        "# Display the training data\n",
        "print(\"\\nTrain Data:\")\n",
        "print(X_train.head())\n",
        "print(y_train.head())\n",
        "\n",
        "# Display the testing data\n",
        "print(\"\\nTest Data:\")\n",
        "print(X_test.head())\n",
        "print(y_test.head())\n"
      ],
      "metadata": {
        "colab": {
          "base_uri": "https://localhost:8080/"
        },
        "id": "U-kyGZ4bWoqq",
        "outputId": "aa3ddd8d-a266-4ff1-d39c-c840267e4fda"
      },
      "execution_count": null,
      "outputs": [
        {
          "output_type": "stream",
          "name": "stdout",
          "text": [
            "\n",
            "Train Data:\n",
            "                                            tweet_tokens\n",
            "15272  retweet well else white people get u forget ho...\n",
            "9351   funny thing isits people people seeing pic jud...\n",
            "20323  retweet nigga messed wrong bitch andand andand...\n",
            "3638                                    bitch a nigggaaa\n",
            "20579                                         real bitch\n",
            "15272    0\n",
            "9351     2\n",
            "20323    1\n",
            "3638     1\n",
            "20579    1\n",
            "Name: class, dtype: int64\n",
            "\n",
            "Test Data:\n",
            "                                            tweet_tokens\n",
            "2281                            got missed call yo bitch\n",
            "15914  retweet fucking bad bitch gone need money lil ...\n",
            "18943  retweet laughing loud credit near good know ri...\n",
            "16407  retweet wipe cum forgot retweet contact lens w...\n",
            "13326  nigga cheat bitch expect pay back whatsoever n...\n",
            "2281     1\n",
            "15914    1\n",
            "18943    2\n",
            "16407    1\n",
            "13326    1\n",
            "Name: class, dtype: int64\n"
          ]
        }
      ]
    },
    {
      "cell_type": "code",
      "source": [
        "# Training the model\n",
        "pipeline.fit(X_train, y_train)\n",
        "accuracy = pipeline.score(X_test, y_test)\n",
        "print(f'Accuracy: {accuracy}')\n"
      ],
      "metadata": {
        "colab": {
          "base_uri": "https://localhost:8080/"
        },
        "id": "hzO-0V4pW6JR",
        "outputId": "c68dc248-32e8-45fc-b873-b683b204e48f"
      },
      "execution_count": null,
      "outputs": [
        {
          "output_type": "stream",
          "name": "stdout",
          "text": [
            "Accuracy: 0.8840024208190438\n"
          ]
        }
      ]
    },
    {
      "cell_type": "markdown",
      "source": [
        "Using **One - Hot** Encoding Method we get the accuracy of **88%** for our model."
      ],
      "metadata": {
        "id": "vsFMNNULXHep"
      }
    }
  ]
}