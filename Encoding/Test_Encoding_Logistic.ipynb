{
 "cells": [
  {
   "cell_type": "code",
   "execution_count": 40,
   "id": "e708e0e6-9bff-43d9-95bc-4bde02e5aa8a",
   "metadata": {},
   "outputs": [
    {
     "name": "stdout",
     "output_type": "stream",
     "text": [
      "   hate_speech  offensive_language  neither  class  \\\n",
      "0            0                   0        3      2   \n",
      "1            0                   3        0      1   \n",
      "2            0                   3        0      1   \n",
      "3            0                   2        1      1   \n",
      "4            0                   6        0      1   \n",
      "\n",
      "                                               tweet  \\\n",
      "0  retwet as a woman you should not complain abou...   \n",
      "1  retwet boy dats coldtyga dwn bad for cufin dat...   \n",
      "2  retwet dawg retwet you ever fuck a bitch and s...   \n",
      "3                        retwet she lok like a trany   \n",
      "4  retwet the shit you hear about me might be tru...   \n",
      "\n",
      "                                              tokens  \n",
      "0  ['retwet', 'woman', 'complain', 'cleaning', 'h...  \n",
      "1  ['retwet', 'boy', 'dat', 'coldtyga', 'dwn', 'b...  \n",
      "2  ['retwet', 'dawg', 'retwet', 'ever', 'fuck', '...  \n",
      "3                 ['retwet', 'lok', 'like', 'trany']  \n",
      "4  ['retwet', 'shit', 'hear', 'might', 'true', 'm...  \n"
     ]
    }
   ],
   "source": [
    "import pandas as pd\n",
    "from sklearn.model_selection import train_test_split\n",
    "from sklearn.metrics import accuracy_score, classification_report, precision_score, recall_score, f1_score\n",
    "from sklearn.pipeline import Pipeline\n",
    "\n",
    "# Load the processed dataset\n",
    "data = pd.read_csv('new_processed_dataset.csv')\n",
    "print(data.head())\n",
    "\n",
    "# Ensure there are no NaN values\n",
    "data.dropna(subset=['tweet'], inplace=True)\n",
    "\n",
    "# Define features and target variable\n",
    "X = data['tweet']\n",
    "y = data['class']\n",
    "\n",
    "# Split the dataset into training and testing sets\n",
    "X_train, X_test, y_train, y_test = train_test_split(X, y, test_size=0.2, random_state=42)\n",
    "# Function to print metrics\n",
    "def print_metrics(y_test, y_pred):\n",
    "    print(\"Accuracy:\", accuracy_score(y_test, y_pred))\n",
    "    print(\"Precision:\", precision_score(y_test, y_pred, average='weighted'))\n",
    "    print(\"Recall:\", recall_score(y_test, y_pred, average='weighted'))\n",
    "    print(\"F1 Score:\", f1_score(y_test, y_pred, average='weighted'))\n"
   ]
  },
  {
   "cell_type": "code",
   "execution_count": 41,
   "id": "baa9ae9d-7dad-4dac-8d97-4bcc3c26b0aa",
   "metadata": {},
   "outputs": [
    {
     "name": "stdout",
     "output_type": "stream",
     "text": [
      "One Hot Encoding\n",
      "Accuracy: 0.8932176019378281\n",
      "Classification Report:\n",
      "               precision    recall  f1-score   support\n",
      "\n",
      "           0       0.48      0.22      0.30       305\n",
      "           1       0.93      0.94      0.94      3807\n",
      "           2       0.81      0.91      0.86       842\n",
      "\n",
      "    accuracy                           0.89      4954\n",
      "   macro avg       0.74      0.69      0.70      4954\n",
      "weighted avg       0.88      0.89      0.88      4954\n",
      "\n",
      "Accuracy: 0.8932176019378281\n",
      "Precision: 0.8810039246136164\n",
      "Recall: 0.8932176019378281\n",
      "F1 Score: 0.8836092495429437\n"
     ]
    }
   ],
   "source": [
    "from sklearn.pipeline import Pipeline\n",
    "from sklearn.feature_extraction.text import CountVectorizer\n",
    "from sklearn.linear_model import LogisticRegression\n",
    "from sklearn.metrics import accuracy_score, classification_report\n",
    "\n",
    "# One Hot Encoding Pipeline\n",
    "pipeline_ohe = Pipeline([\n",
    "    ('vectorizer', CountVectorizer(binary=True, max_features=1000)),\n",
    "    ('classifier', LogisticRegression())\n",
    "])\n",
    "\n",
    "# Train and evaluate the model\n",
    "pipeline_ohe.fit(X_train, y_train)\n",
    "y_pred_ohe = pipeline_ohe.predict(X_test)\n",
    "print(\"One Hot Encoding\")\n",
    "print(\"Accuracy:\", accuracy_score(y_test, y_pred_ohe))\n",
    "print(\"Classification Report:\\n\", classification_report(y_test, y_pred_ohe))\n",
    "print_metrics(y_test, y_pred_ohe)\n"
   ]
  },
  {
   "cell_type": "code",
   "execution_count": 42,
   "id": "c4ce22e1-4d68-4f22-9f12-e4a0fbf46145",
   "metadata": {},
   "outputs": [
    {
     "name": "stdout",
     "output_type": "stream",
     "text": [
      "TF-IDF Encoding\n",
      "Accuracy: 0.8891804602341542\n",
      "Classification Report:\n",
      "               precision    recall  f1-score   support\n",
      "\n",
      "           0       0.59      0.17      0.26       305\n",
      "           1       0.91      0.96      0.93      3807\n",
      "           2       0.82      0.83      0.83       842\n",
      "\n",
      "    accuracy                           0.89      4954\n",
      "   macro avg       0.77      0.65      0.67      4954\n",
      "weighted avg       0.88      0.89      0.87      4954\n",
      "\n",
      "Accuracy: 0.8891804602341542\n",
      "Precision: 0.8750691000110776\n",
      "Recall: 0.8891804602341542\n",
      "F1 Score: 0.8744271581080336\n"
     ]
    }
   ],
   "source": [
    "from sklearn.feature_extraction.text import TfidfVectorizer\n",
    "\n",
    "# TF-IDF Encoding Pipeline\n",
    "pipeline_tfidf = Pipeline([\n",
    "    ('vectorizer', TfidfVectorizer(max_features=1000)),\n",
    "    ('classifier', LogisticRegression())\n",
    "])\n",
    "\n",
    "# Train and evaluate the model\n",
    "pipeline_tfidf.fit(X_train, y_train)\n",
    "y_pred_tfidf = pipeline_tfidf.predict(X_test)\n",
    "print(\"TF-IDF Encoding\")\n",
    "print(\"Accuracy:\", accuracy_score(y_test, y_pred_tfidf))\n",
    "print(\"Classification Report:\\n\", classification_report(y_test, y_pred_tfidf))\n",
    "print_metrics(y_test, y_pred_tfidf)\n"
   ]
  },
  {
   "cell_type": "code",
   "execution_count": 45,
   "id": "e91e3acc-6f8d-4932-afc8-cb0c1e90fe58",
   "metadata": {},
   "outputs": [
    {
     "name": "stdout",
     "output_type": "stream",
     "text": [
      "Word2Vec Encoding\n",
      "Accuracy: 0.8538554703270085\n",
      "Classification Report:\n",
      "               precision    recall  f1-score   support\n",
      "\n",
      "           0       0.62      0.03      0.06       305\n",
      "           1       0.88      0.95      0.92      3807\n",
      "           2       0.71      0.71      0.71       842\n",
      "\n",
      "    accuracy                           0.85      4954\n",
      "   macro avg       0.74      0.57      0.56      4954\n",
      "weighted avg       0.84      0.85      0.83      4954\n",
      "\n",
      "Accuracy: 0.8538554703270085\n",
      "Precision: 0.8389230389063165\n",
      "Recall: 0.8538554703270085\n",
      "F1 Score: 0.8290693914477676\n"
     ]
    }
   ],
   "source": [
    "from gensim.models import Word2Vec\n",
    "import numpy as np\n",
    "from sklearn.base import BaseEstimator, TransformerMixin\n",
    "\n",
    "class Word2VecTransformer(BaseEstimator, TransformerMixin):\n",
    "    def __init__(self, vector_size=100, window=5, min_count=1):\n",
    "        self.vector_size = vector_size\n",
    "        self.window = window\n",
    "        self.min_count = min_count\n",
    "        self.model = None\n",
    "\n",
    "    def fit(self, X, y=None):\n",
    "        tokenized_X = [tweet.split() for tweet in X]\n",
    "        self.model = Word2Vec(sentences=tokenized_X, vector_size=self.vector_size, window=self.window, min_count=self.min_count)\n",
    "        return self\n",
    "\n",
    "    def transform(self, X):\n",
    "        def get_word2vec_features(text):\n",
    "            words = text.split()\n",
    "            feature_vector = np.mean([self.model.wv[word] for word in words if word in self.model.wv] or [np.zeros(self.vector_size)], axis=0)\n",
    "            return feature_vector\n",
    "        \n",
    "        return np.array([get_word2vec_features(tweet) for tweet in X])\n",
    "\n",
    "# Word2Vec Encoding Pipeline\n",
    "pipeline_w2v = Pipeline([\n",
    "    ('word2vec', Word2VecTransformer(vector_size=100)),  # We don't set max_features for Word2Vec\n",
    "    ('scaler', StandardScaler()),\n",
    "    ('classifier', LogisticRegression(max_iter=1000))\n",
    "])\n",
    "\n",
    "# Train and evaluate the model\n",
    "pipeline_w2v.fit(X_train, y_train)\n",
    "y_pred_w2v = pipeline_w2v.predict(X_test)\n",
    "print(\"Word2Vec Encoding\")\n",
    "print(\"Accuracy:\", accuracy_score(y_test, y_pred_w2v))\n",
    "print(\"Classification Report:\\n\", classification_report(y_test, y_pred_w2v))\n",
    "print_metrics(y_test, y_pred_w2v)\n"
   ]
  },
  {
   "cell_type": "code",
   "execution_count": 44,
   "id": "476446fb-a8ff-40d4-8c46-4d50ad2555ff",
   "metadata": {},
   "outputs": [
    {
     "name": "stdout",
     "output_type": "stream",
     "text": [
      "Term Frequency Encoding\n",
      "Accuracy: 0.8909971740008075\n",
      "Classification Report:\n",
      "               precision    recall  f1-score   support\n",
      "\n",
      "           0       0.46      0.21      0.28       305\n",
      "           1       0.93      0.94      0.94      3807\n",
      "           2       0.80      0.91      0.85       842\n",
      "\n",
      "    accuracy                           0.89      4954\n",
      "   macro avg       0.73      0.69      0.69      4954\n",
      "weighted avg       0.88      0.89      0.88      4954\n",
      "\n",
      "Accuracy: 0.8909971740008075\n",
      "Precision: 0.8780762825958154\n",
      "Recall: 0.8909971740008075\n",
      "F1 Score: 0.8810098340399694\n"
     ]
    }
   ],
   "source": [
    "# Term Frequency Encoding Pipeline\n",
    "pipeline_tf = Pipeline([\n",
    "    ('vectorizer', CountVectorizer(max_features=1000)),\n",
    "    ('classifier', LogisticRegression())\n",
    "])\n",
    "\n",
    "# Train and evaluate the model\n",
    "pipeline_tf.fit(X_train, y_train)\n",
    "y_pred_tf = pipeline_tf.predict(X_test)\n",
    "print(\"Term Frequency Encoding\")\n",
    "print(\"Accuracy:\", accuracy_score(y_test, y_pred_tf))\n",
    "print(\"Classification Report:\\n\", classification_report(y_test, y_pred_tf))\n",
    "print_metrics(y_test, y_pred_tf)\n"
   ]
  },
  {
   "cell_type": "code",
   "execution_count": null,
   "id": "4761931b-0fb4-4e8c-9a1b-6b8d71a8c075",
   "metadata": {},
   "outputs": [],
   "source": []
  }
 ],
 "metadata": {
  "kernelspec": {
   "display_name": "Python 3 (ipykernel)",
   "language": "python",
   "name": "python3"
  },
  "language_info": {
   "codemirror_mode": {
    "name": "ipython",
    "version": 3
   },
   "file_extension": ".py",
   "mimetype": "text/x-python",
   "name": "python",
   "nbconvert_exporter": "python",
   "pygments_lexer": "ipython3",
   "version": "3.11.5"
  }
 },
 "nbformat": 4,
 "nbformat_minor": 5
}
