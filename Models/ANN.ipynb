{
  "nbformat": 4,
  "nbformat_minor": 0,
  "metadata": {
    "colab": {
      "provenance": [],
      "gpuType": "T4"
    },
    "kernelspec": {
      "name": "python3",
      "display_name": "Python 3"
    },
    "language_info": {
      "name": "python"
    },
    "accelerator": "GPU"
  },
  "cells": [
    {
      "cell_type": "code",
      "execution_count": 1,
      "metadata": {
        "id": "BkDqMnm4BZ0f"
      },
      "outputs": [],
      "source": [
        "import pandas as pd\n",
        "import ast\n",
        "from sklearn.feature_extraction.text import TfidfVectorizer\n",
        "from sklearn.model_selection import train_test_split\n",
        "from tensorflow.keras.models import Sequential\n",
        "from tensorflow.keras.layers import Dense, Dropout\n",
        "from tensorflow.keras.optimizers import Adam\n",
        "from tensorflow.keras.callbacks import EarlyStopping\n",
        "from sklearn.preprocessing import LabelEncoder\n",
        "from tensorflow.keras.utils import to_categorical\n"
      ]
    },
    {
      "cell_type": "code",
      "source": [
        "# Load the dataset\n",
        "df = pd.read_csv('/content/cleaned_dataset_combined (3).csv')\n",
        "\n",
        "# Convert string representation of list to actual list\n",
        "df['tweet_tokens'] = df['tweet_tokens'].apply(ast.literal_eval)\n",
        "\n",
        "# Define feature and target variables\n",
        "X = df[['tweet_tokens']]\n",
        "y = df['class']"
      ],
      "metadata": {
        "id": "K-cftcaDEt22"
      },
      "execution_count": 2,
      "outputs": []
    },
    {
      "cell_type": "code",
      "source": [
        "# Define a function to join tokens into a single string\n",
        "X['tweet_tokens'] = X['tweet_tokens'].apply(lambda x: ' '.join(x))\n",
        "\n",
        "# Use TfidfVectorizer for the 'tweet_tokens' column\n",
        "tfidf = TfidfVectorizer()\n",
        "X_tfidf = tfidf.fit_transform(X['tweet_tokens'])\n",
        "\n",
        "# Encode target labels\n",
        "label_encoder = LabelEncoder()\n",
        "y_encoded = label_encoder.fit_transform(y)\n",
        "\n",
        "# Handle class imbalance by converting labels to one-hot encoding\n",
        "y_categorical = to_categorical(y_encoded)"
      ],
      "metadata": {
        "colab": {
          "base_uri": "https://localhost:8080/"
        },
        "id": "lAp0qlTGBuf_",
        "outputId": "f5d1a6fb-a232-4ed9-ea74-4ac194ac09c4"
      },
      "execution_count": 3,
      "outputs": [
        {
          "output_type": "stream",
          "name": "stderr",
          "text": [
            "<ipython-input-3-b52d4387a5c5>:2: SettingWithCopyWarning: \n",
            "A value is trying to be set on a copy of a slice from a DataFrame.\n",
            "Try using .loc[row_indexer,col_indexer] = value instead\n",
            "\n",
            "See the caveats in the documentation: https://pandas.pydata.org/pandas-docs/stable/user_guide/indexing.html#returning-a-view-versus-a-copy\n",
            "  X['tweet_tokens'] = X['tweet_tokens'].apply(lambda x: ' '.join(x))\n"
          ]
        }
      ]
    },
    {
      "cell_type": "code",
      "source": [
        "# Split the dataset into training and testing sets\n",
        "X_train, X_test, y_train, y_test = train_test_split(X_tfidf, y_categorical, test_size=0.2, random_state=42)\n",
        "\n",
        "# Build the ANN model\n",
        "model = Sequential()\n",
        "model.add(Dense(256, input_dim=X_train.shape[1], activation='relu'))\n",
        "model.add(Dropout(0.5))\n",
        "model.add(Dense(128, activation='relu'))\n",
        "model.add(Dropout(0.5))\n",
        "model.add(Dense(64, activation='relu'))\n",
        "model.add(Dense(y_categorical.shape[1], activation='softmax'))"
      ],
      "metadata": {
        "id": "gQNX3QtDEyIN"
      },
      "execution_count": 4,
      "outputs": []
    },
    {
      "cell_type": "code",
      "source": [
        "# Compile the model\n",
        "model.compile(optimizer=Adam(learning_rate=0.001), loss='categorical_crossentropy', metrics=['accuracy'])\n",
        "\n",
        "# Define early stopping callback\n",
        "early_stopping = EarlyStopping(monitor='val_loss', patience=3, restore_best_weights=True)\n",
        "\n",
        "# Train the model with early stopping\n",
        "model.fit(X_train.toarray(), y_train, epochs=50, batch_size=64, validation_data=(X_test.toarray(), y_test), callbacks=[early_stopping])"
      ],
      "metadata": {
        "colab": {
          "base_uri": "https://localhost:8080/"
        },
        "id": "qB6Tr_LyE3CZ",
        "outputId": "5edff034-729a-45ba-8472-3638e287ac3b"
      },
      "execution_count": 5,
      "outputs": [
        {
          "output_type": "stream",
          "name": "stdout",
          "text": [
            "Epoch 1/50\n",
            "310/310 [==============================] - 7s 11ms/step - loss: 0.4811 - accuracy: 0.8247 - val_loss: 0.3455 - val_accuracy: 0.8800\n",
            "Epoch 2/50\n",
            "310/310 [==============================] - 2s 7ms/step - loss: 0.2518 - accuracy: 0.9093 - val_loss: 0.3368 - val_accuracy: 0.8812\n",
            "Epoch 3/50\n",
            "310/310 [==============================] - 3s 8ms/step - loss: 0.1668 - accuracy: 0.9395 - val_loss: 0.3972 - val_accuracy: 0.8693\n",
            "Epoch 4/50\n",
            "310/310 [==============================] - 3s 8ms/step - loss: 0.1163 - accuracy: 0.9585 - val_loss: 0.4415 - val_accuracy: 0.8711\n",
            "Epoch 5/50\n",
            "310/310 [==============================] - 2s 7ms/step - loss: 0.0850 - accuracy: 0.9690 - val_loss: 0.5319 - val_accuracy: 0.8560\n"
          ]
        },
        {
          "output_type": "execute_result",
          "data": {
            "text/plain": [
              "<keras.src.callbacks.History at 0x7947680d5660>"
            ]
          },
          "metadata": {},
          "execution_count": 5
        }
      ]
    },
    {
      "cell_type": "code",
      "source": [
        "\n",
        "# Evaluate the model\n",
        "loss, accuracy = model.evaluate(X_test.toarray(), y_test)\n",
        "print(f'Test set accuracy: {accuracy:.2f}')"
      ],
      "metadata": {
        "colab": {
          "base_uri": "https://localhost:8080/"
        },
        "id": "b2uTdrZmE6Wt",
        "outputId": "97432929-9407-46a4-d393-afe1ac138e17"
      },
      "execution_count": 6,
      "outputs": [
        {
          "output_type": "stream",
          "name": "stdout",
          "text": [
            "155/155 [==============================] - 1s 3ms/step - loss: 0.3368 - accuracy: 0.8812\n",
            "Test set accuracy: 0.88\n"
          ]
        }
      ]
    }
  ]
}