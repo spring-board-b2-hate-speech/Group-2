{
  "nbformat": 4,
  "nbformat_minor": 0,
  "metadata": {
    "colab": {
      "provenance": []
    },
    "kernelspec": {
      "name": "python3",
      "display_name": "Python 3"
    },
    "language_info": {
      "name": "python"
    }
  },
  "cells": [
    {
      "cell_type": "code",
      "execution_count": 1,
      "metadata": {
        "colab": {
          "base_uri": "https://localhost:8080/"
        },
        "id": "LvgEFj0siJcB",
        "outputId": "44449b0d-0ab4-403e-a843-1c061b817bb8"
      },
      "outputs": [
        {
          "output_type": "stream",
          "name": "stdout",
          "text": [
            "Original DataFrame:\n",
            "   hate_speech  offensive_language  neither  class  \\\n",
            "0            0                   0        3      1   \n",
            "1            0                   3        0      0   \n",
            "2            0                   3        0      0   \n",
            "3            0                   2        1      0   \n",
            "4            0                   6        0      0   \n",
            "\n",
            "                                               tweet  \\\n",
            "0  rt as a woman you should not complain about cl...   \n",
            "1  rt boy dats coldtyga dwn bad for cufin dat hoe...   \n",
            "2  rt dawg rt you ever fuck a bitch and she start...   \n",
            "3                            rt she lok like a trany   \n",
            "4  rt the shit you hear about me might be true or...   \n",
            "\n",
            "                                        tweet_tokens  \\\n",
            "0  ['rt', 'woman', 'complain', 'cleaning', 'house...   \n",
            "1  ['rt', 'boy', 'dat', 'coldtyga', 'dwn', 'bad',...   \n",
            "2  ['rt', 'dawg', 'rt', 'ever', 'fuck', 'bitch', ...   \n",
            "3                     ['rt', 'lok', 'like', 'trany']   \n",
            "4  ['rt', 'shit', 'hear', 'might', 'true', 'might...   \n",
            "\n",
            "                                        merged_tweet  \n",
            "0  rt woman complain cleaning house man always ta...  \n",
            "1  rt boy dat coldtyga dwn bad cufin dat hoe st p...  \n",
            "2  rt dawg rt ever fuck bitch start cry confused ...  \n",
            "3                                  rt lok like trany  \n",
            "4  rt shit hear might true might faker bitch told ya  \n",
            "<class 'pandas.core.frame.DataFrame'>\n",
            "RangeIndex: 24768 entries, 0 to 24767\n",
            "Data columns (total 7 columns):\n",
            " #   Column              Non-Null Count  Dtype \n",
            "---  ------              --------------  ----- \n",
            " 0   hate_speech         24768 non-null  int64 \n",
            " 1   offensive_language  24768 non-null  int64 \n",
            " 2   neither             24768 non-null  int64 \n",
            " 3   class               24768 non-null  int64 \n",
            " 4   tweet               24768 non-null  object\n",
            " 5   tweet_tokens        24768 non-null  object\n",
            " 6   merged_tweet        24768 non-null  object\n",
            "dtypes: int64(4), object(3)\n",
            "memory usage: 1.3+ MB\n",
            "None\n"
          ]
        }
      ],
      "source": [
        "import pandas as pd\n",
        "\n",
        "# Load the dataset\n",
        "# Replace with the actual path to your CSV file\n",
        "df = pd.read_csv('/content/cleaned_dataset_combined (4).csv')\n",
        "\n",
        "# Display the first few rows to verify\n",
        "print(\"Original DataFrame:\")\n",
        "print(df.head())\n",
        "print(df.info())"
      ]
    },
    {
      "cell_type": "code",
      "source": [
        "import ast\n",
        "\n",
        "# Convert string representation of list to actual list\n",
        "df['tweet_tokens'] = df['tweet_tokens'].apply(ast.literal_eval)\n",
        "\n",
        "# Display the first few rows to verify\n",
        "print(\"\\nDataFrame after converting tweet_tokens to lists:\")\n",
        "print(df.head())\n",
        "print(df.info())"
      ],
      "metadata": {
        "colab": {
          "base_uri": "https://localhost:8080/"
        },
        "id": "Dyc633GRiVDz",
        "outputId": "bb5eb401-1e25-41fe-c94e-63e5efb3d52e"
      },
      "execution_count": 2,
      "outputs": [
        {
          "output_type": "stream",
          "name": "stdout",
          "text": [
            "\n",
            "DataFrame after converting tweet_tokens to lists:\n",
            "   hate_speech  offensive_language  neither  class  \\\n",
            "0            0                   0        3      1   \n",
            "1            0                   3        0      0   \n",
            "2            0                   3        0      0   \n",
            "3            0                   2        1      0   \n",
            "4            0                   6        0      0   \n",
            "\n",
            "                                               tweet  \\\n",
            "0  rt as a woman you should not complain about cl...   \n",
            "1  rt boy dats coldtyga dwn bad for cufin dat hoe...   \n",
            "2  rt dawg rt you ever fuck a bitch and she start...   \n",
            "3                            rt she lok like a trany   \n",
            "4  rt the shit you hear about me might be true or...   \n",
            "\n",
            "                                        tweet_tokens  \\\n",
            "0  [rt, woman, complain, cleaning, house, man, al...   \n",
            "1  [rt, boy, dat, coldtyga, dwn, bad, cufin, dat,...   \n",
            "2  [rt, dawg, rt, ever, fuck, bitch, start, cry, ...   \n",
            "3                             [rt, lok, like, trany]   \n",
            "4  [rt, shit, hear, might, true, might, faker, bi...   \n",
            "\n",
            "                                        merged_tweet  \n",
            "0  rt woman complain cleaning house man always ta...  \n",
            "1  rt boy dat coldtyga dwn bad cufin dat hoe st p...  \n",
            "2  rt dawg rt ever fuck bitch start cry confused ...  \n",
            "3                                  rt lok like trany  \n",
            "4  rt shit hear might true might faker bitch told ya  \n",
            "<class 'pandas.core.frame.DataFrame'>\n",
            "RangeIndex: 24768 entries, 0 to 24767\n",
            "Data columns (total 7 columns):\n",
            " #   Column              Non-Null Count  Dtype \n",
            "---  ------              --------------  ----- \n",
            " 0   hate_speech         24768 non-null  int64 \n",
            " 1   offensive_language  24768 non-null  int64 \n",
            " 2   neither             24768 non-null  int64 \n",
            " 3   class               24768 non-null  int64 \n",
            " 4   tweet               24768 non-null  object\n",
            " 5   tweet_tokens        24768 non-null  object\n",
            " 6   merged_tweet        24768 non-null  object\n",
            "dtypes: int64(4), object(3)\n",
            "memory usage: 1.3+ MB\n",
            "None\n"
          ]
        }
      ]
    },
    {
      "cell_type": "code",
      "source": [
        "from gensim.models import Word2Vec\n",
        "\n",
        "# Train Word2Vec model\n",
        "word2vec_model = Word2Vec(sentences=df['tweet_tokens'], vector_size=100, window=5, min_count=1, workers=4)\n",
        "\n",
        "# Get the vector size\n",
        "vector_size = word2vec_model.wv.vector_size\n"
      ],
      "metadata": {
        "id": "k2F4kC0oicg3"
      },
      "execution_count": 3,
      "outputs": []
    },
    {
      "cell_type": "code",
      "source": [
        "import numpy as np\n",
        "\n",
        "def document_vector(doc):\n",
        "    # Remove out-of-vocabulary words\n",
        "    doc = [word for word in doc if word in word2vec_model.wv.key_to_index]\n",
        "    # If the document is empty, return a zero vector\n",
        "    if not doc:\n",
        "        return np.zeros(vector_size)\n",
        "    # Calculate the mean vector\n",
        "    return np.mean(word2vec_model.wv[doc], axis=0)\n",
        "\n",
        "# Apply the function to transform tweet_tokens\n",
        "X_vectors = df['tweet_tokens'].apply(document_vector).tolist()\n",
        "X_vectors = np.array(X_vectors)\n"
      ],
      "metadata": {
        "id": "klU7F2oRifRj"
      },
      "execution_count": 4,
      "outputs": []
    },
    {
      "cell_type": "code",
      "source": [
        "\n",
        "\n",
        "# Define the target variable\n",
        "y = df['class']\n"
      ],
      "metadata": {
        "id": "D8c9DnwMihE-"
      },
      "execution_count": 5,
      "outputs": []
    },
    {
      "cell_type": "code",
      "source": [
        "from sklearn.ensemble import RandomForestClassifier\n",
        "from sklearn.pipeline import Pipeline\n",
        "from sklearn.preprocessing import StandardScaler\n",
        "from sklearn.model_selection import train_test_split\n",
        "\n",
        "# Split the dataset into training and testing sets\n",
        "X_train, X_test, y_train, y_test = train_test_split(X_vectors, y, test_size=0.2, random_state=42)\n",
        "\n",
        "# Create a pipeline with StandardScaler and RandomForestClassifier\n",
        "pipeline = Pipeline([\n",
        "    ('scaler', StandardScaler()),  # Standardize the features\n",
        "    ('classifier', RandomForestClassifier())\n",
        "])\n",
        "\n",
        "# Train the model\n",
        "pipeline.fit(X_train, y_train)\n",
        "\n",
        "# Evaluate the model\n",
        "accuracy = pipeline.score(X_test, y_test)\n",
        "print(f'\\nAccuracy: {accuracy}')\n"
      ],
      "metadata": {
        "colab": {
          "base_uri": "https://localhost:8080/"
        },
        "id": "-caELf2rilTA",
        "outputId": "343aec8f-7ba0-4be3-c1c4-0a75774ca4c5"
      },
      "execution_count": 6,
      "outputs": [
        {
          "output_type": "stream",
          "name": "stdout",
          "text": [
            "\n",
            "Accuracy: 0.9027048849414614\n"
          ]
        }
      ]
    },
    {
      "cell_type": "code",
      "source": [],
      "metadata": {
        "id": "Bs2Fus384129"
      },
      "execution_count": null,
      "outputs": []
    }
  ]
}