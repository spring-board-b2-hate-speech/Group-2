{
  "nbformat": 4,
  "nbformat_minor": 0,
  "metadata": {
    "colab": {
      "provenance": []
    },
    "kernelspec": {
      "name": "python3",
      "display_name": "Python 3"
    },
    "language_info": {
      "name": "python"
    }
  },
  "cells": [
    {
      "cell_type": "code",
      "execution_count": 1,
      "metadata": {
        "colab": {
          "base_uri": "https://localhost:8080/"
        },
        "id": "vprJ5y4aBzTB",
        "outputId": "33a6eb19-9974-4b91-be27-df5b953295f9"
      },
      "outputs": [
        {
          "output_type": "stream",
          "name": "stdout",
          "text": [
            "Original DataFrame:\n",
            "   hate_speech  offensive_language  neither  class  \\\n",
            "0            0                   0        3      2   \n",
            "1            0                   3        0      1   \n",
            "2            0                   3        0      1   \n",
            "3            0                   2        1      1   \n",
            "4            0                   6        0      1   \n",
            "\n",
            "                                               tweet  \\\n",
            "0  retwet as a woman you should not complain abou...   \n",
            "1  retwet boy dats coldtyga dwn bad for cufin dat...   \n",
            "2  retwet dawg retwet you ever fuck a bitch and s...   \n",
            "3                        retwet she lok like a trany   \n",
            "4  retwet the shit you hear about me might be tru...   \n",
            "\n",
            "                                        tweet_tokens  \n",
            "0  ['retwet', 'woman', 'complain', 'cleaning', 'h...  \n",
            "1  ['retwet', 'boy', 'dat', 'coldtyga', 'dwn', 'b...  \n",
            "2  ['retwet', 'dawg', 'retwet', 'ever', 'fuck', '...  \n",
            "3                 ['retwet', 'lok', 'like', 'trany']  \n",
            "4  ['retwet', 'shit', 'hear', 'might', 'true', 'm...  \n"
          ]
        }
      ],
      "source": [
        "import pandas as pd\n",
        "\n",
        "# Load the dataset\n",
        "# Replace with the actual path to your CSV file\n",
        "df = pd.read_csv('/content/cleaned_dataset_combined (2).csv')\n",
        "\n",
        "# Display the first few rows to verify\n",
        "print(\"Original DataFrame:\")\n",
        "print(df.head())\n"
      ]
    },
    {
      "cell_type": "code",
      "source": [
        "import ast\n",
        "\n",
        "# Convert string representation of list to actual list\n",
        "df['tweet_tokens'] = df['tweet_tokens'].apply(ast.literal_eval)\n",
        "\n",
        "# Display the first few rows to verify\n",
        "print(\"\\nDataFrame after converting tweet_tokens to lists:\")\n",
        "print(df.head())\n"
      ],
      "metadata": {
        "colab": {
          "base_uri": "https://localhost:8080/"
        },
        "id": "v8W3Kc16CGMb",
        "outputId": "d373d683-de2f-4f42-feeb-1cf7d26ede8a"
      },
      "execution_count": 2,
      "outputs": [
        {
          "output_type": "stream",
          "name": "stdout",
          "text": [
            "\n",
            "DataFrame after converting tweet_tokens to lists:\n",
            "   hate_speech  offensive_language  neither  class  \\\n",
            "0            0                   0        3      2   \n",
            "1            0                   3        0      1   \n",
            "2            0                   3        0      1   \n",
            "3            0                   2        1      1   \n",
            "4            0                   6        0      1   \n",
            "\n",
            "                                               tweet  \\\n",
            "0  retwet as a woman you should not complain abou...   \n",
            "1  retwet boy dats coldtyga dwn bad for cufin dat...   \n",
            "2  retwet dawg retwet you ever fuck a bitch and s...   \n",
            "3                        retwet she lok like a trany   \n",
            "4  retwet the shit you hear about me might be tru...   \n",
            "\n",
            "                                        tweet_tokens  \n",
            "0  [retwet, woman, complain, cleaning, house, man...  \n",
            "1  [retwet, boy, dat, coldtyga, dwn, bad, cufin, ...  \n",
            "2  [retwet, dawg, retwet, ever, fuck, bitch, star...  \n",
            "3                         [retwet, lok, like, trany]  \n",
            "4  [retwet, shit, hear, might, true, might, faker...  \n"
          ]
        }
      ]
    },
    {
      "cell_type": "code",
      "source": [
        "# Define feature and target variables\n",
        "X = df[['hate_speech', 'offensive_language', 'neither', 'tweet_tokens']]\n",
        "y = df['class']\n"
      ],
      "metadata": {
        "id": "M7u54F4ACHtF"
      },
      "execution_count": 3,
      "outputs": []
    },
    {
      "cell_type": "code",
      "source": [
        "from sklearn.preprocessing import MultiLabelBinarizer\n",
        "from sklearn.compose import ColumnTransformer\n",
        "\n",
        "# Initialize MultiLabelBinarizer\n",
        "mlb = MultiLabelBinarizer()\n",
        "\n",
        "# Transform tweet_tokens column\n",
        "X_tweet_tokens = mlb.fit_transform(X['tweet_tokens'])\n",
        "\n",
        "# Create a new DataFrame with the binarized tweet tokens\n",
        "X_tokens_df = pd.DataFrame(X_tweet_tokens, columns=mlb.classes_)\n",
        "\n",
        "# Drop the original tweet_tokens column and concatenate the new binarized DataFrame\n",
        "X = X.drop('tweet_tokens', axis=1)\n",
        "X = pd.concat([X, X_tokens_df], axis=1)\n",
        "\n",
        "# Display the first few rows to verify\n",
        "print(\"\\nDataFrame after applying MultiLabelBinarizer:\")\n",
        "print(X.head())\n"
      ],
      "metadata": {
        "colab": {
          "base_uri": "https://localhost:8080/"
        },
        "id": "ywJfKlfXCKo-",
        "outputId": "daa34f0d-5d99-47f5-e831-f3575c59ab75"
      },
      "execution_count": 9,
      "outputs": [
        {
          "output_type": "stream",
          "name": "stdout",
          "text": [
            "\n",
            "DataFrame after applying MultiLabelBinarizer:\n",
            "   hate_speech  offensive_language  neither  a  ab  abandonado  abc  abde  \\\n",
            "0            0                   0        3  0   0           0    0     0   \n",
            "1            0                   3        0  0   0           0    0     0   \n",
            "2            0                   3        0  0   0           0    0     0   \n",
            "3            0                   2        1  0   0           0    0     0   \n",
            "4            0                   6        0  0   0           0    0     0   \n",
            "\n",
            "   abdelka  abduction  ...  zonen  zoro  zoted  zquil  zrgriz  zro  zuchini  \\\n",
            "0        0          0  ...      0     0      0      0       0    0        0   \n",
            "1        0          0  ...      0     0      0      0       0    0        0   \n",
            "2        0          0  ...      0     0      0      0       0    0        0   \n",
            "3        0          0  ...      0     0      0      0       0    0        0   \n",
            "4        0          0  ...      0     0      0      0       0    0        0   \n",
            "\n",
            "   zuko  zulema  zulu  \n",
            "0     0       0     0  \n",
            "1     0       0     0  \n",
            "2     0       0     0  \n",
            "3     0       0     0  \n",
            "4     0       0     0  \n",
            "\n",
            "[5 rows x 16423 columns]\n"
          ]
        }
      ]
    },
    {
      "cell_type": "code",
      "source": [
        "from sklearn.ensemble import RandomForestClassifier\n",
        "from sklearn.pipeline import Pipeline\n",
        "\n",
        "# Create a Random Forest Classifier pipeline\n",
        "pipeline = Pipeline([\n",
        "    ('classifier', RandomForestClassifier())\n",
        "])\n"
      ],
      "metadata": {
        "id": "NM9Vos7ECMgV"
      },
      "execution_count": 10,
      "outputs": []
    },
    {
      "cell_type": "code",
      "source": [
        "from sklearn.model_selection import train_test_split\n",
        "\n",
        "# Split the dataset into training and testing sets\n",
        "X_train, X_test, y_train, y_test = train_test_split(X, y, test_size=0.2, random_state=42)\n",
        "\n",
        "# Display the training data\n",
        "print(\"\\nTraining Data:\")\n",
        "print(X_train.head())\n",
        "print(y_train.head())\n",
        "\n",
        "# Display the testing data\n",
        "print(\"\\nTesting Data:\")\n",
        "print(X_test.head())\n",
        "print(y_test.head())\n"
      ],
      "metadata": {
        "colab": {
          "base_uri": "https://localhost:8080/"
        },
        "id": "QhWXrONzCOOW",
        "outputId": "63df217b-6697-4cb2-d9dd-580a2e33025f"
      },
      "execution_count": 11,
      "outputs": [
        {
          "output_type": "stream",
          "name": "stdout",
          "text": [
            "\n",
            "Training Data:\n",
            "       hate_speech  offensive_language  neither  a  ab  abandonado  abc  abde  \\\n",
            "15272            2                   0        1  0   0           0    0     0   \n",
            "9351             0                   0        3  0   0           0    0     0   \n",
            "20323            0                   3        0  0   0           0    0     0   \n",
            "3638             0                   3        0  0   0           0    0     0   \n",
            "20579            0                   6        0  0   0           0    0     0   \n",
            "\n",
            "       abdelka  abduction  ...  zonen  zoro  zoted  zquil  zrgriz  zro  \\\n",
            "15272        0          0  ...      0     0      0      0       0    0   \n",
            "9351         0          0  ...      0     0      0      0       0    0   \n",
            "20323        0          0  ...      0     0      0      0       0    0   \n",
            "3638         0          0  ...      0     0      0      0       0    0   \n",
            "20579        0          0  ...      0     0      0      0       0    0   \n",
            "\n",
            "       zuchini  zuko  zulema  zulu  \n",
            "15272        0     0       0     0  \n",
            "9351         0     0       0     0  \n",
            "20323        0     0       0     0  \n",
            "3638         0     0       0     0  \n",
            "20579        0     0       0     0  \n",
            "\n",
            "[5 rows x 16423 columns]\n",
            "15272    0\n",
            "9351     2\n",
            "20323    1\n",
            "3638     1\n",
            "20579    1\n",
            "Name: class, dtype: int64\n",
            "\n",
            "Testing Data:\n",
            "       hate_speech  offensive_language  neither  a  ab  abandonado  abc  abde  \\\n",
            "2281             0                   3        0  0   0           0    0     0   \n",
            "15914            0                   3        0  0   0           0    0     0   \n",
            "18943            0                   1        2  0   0           0    0     0   \n",
            "16407            0                   3        0  0   0           0    0     0   \n",
            "13326            1                   2        0  0   0           0    0     0   \n",
            "\n",
            "       abdelka  abduction  ...  zonen  zoro  zoted  zquil  zrgriz  zro  \\\n",
            "2281         0          0  ...      0     0      0      0       0    0   \n",
            "15914        0          0  ...      0     0      0      0       0    0   \n",
            "18943        0          0  ...      0     0      0      0       0    0   \n",
            "16407        0          0  ...      0     0      0      0       0    0   \n",
            "13326        0          0  ...      0     0      0      0       0    0   \n",
            "\n",
            "       zuchini  zuko  zulema  zulu  \n",
            "2281         0     0       0     0  \n",
            "15914        0     0       0     0  \n",
            "18943        0     0       0     0  \n",
            "16407        0     0       0     0  \n",
            "13326        0     0       0     0  \n",
            "\n",
            "[5 rows x 16423 columns]\n",
            "2281     1\n",
            "15914    1\n",
            "18943    2\n",
            "16407    1\n",
            "13326    1\n",
            "Name: class, dtype: int64\n"
          ]
        }
      ]
    },
    {
      "cell_type": "code",
      "source": [
        "# Train the model\n",
        "pipeline.fit(X_train, y_train)\n",
        "# Evaluate the model\n",
        "accuracy = pipeline.score(X_test, y_test)\n",
        "print(f'\\nAccuracy: {accuracy}')\n"
      ],
      "metadata": {
        "colab": {
          "base_uri": "https://localhost:8080/"
        },
        "id": "vlfD6KkwCPoo",
        "outputId": "3208182f-dd02-4e6e-b785-a17c018883b2"
      },
      "execution_count": 12,
      "outputs": [
        {
          "output_type": "stream",
          "name": "stdout",
          "text": [
            "\n",
            "Accuracy: 0.9987895904781118\n"
          ]
        }
      ]
    }
  ]
}