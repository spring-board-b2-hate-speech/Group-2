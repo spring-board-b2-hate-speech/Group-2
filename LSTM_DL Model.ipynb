{
  "nbformat": 4,
  "nbformat_minor": 0,
  "metadata": {
    "colab": {
      "provenance": []
    },
    "kernelspec": {
      "name": "python3",
      "display_name": "Python 3"
    },
    "language_info": {
      "name": "python"
    }
  },
  "cells": [
    {
      "cell_type": "markdown",
      "source": [
        "# **Deep Learing Models**"
      ],
      "metadata": {
        "id": "7n2K23YEyJWo"
      }
    },
    {
      "cell_type": "markdown",
      "source": [
        "# LSTM Model"
      ],
      "metadata": {
        "id": "opb0ite2hPYk"
      }
    },
    {
      "cell_type": "code",
      "execution_count": null,
      "metadata": {
        "colab": {
          "base_uri": "https://localhost:8080/"
        },
        "id": "hwcNrLrjyFgh",
        "outputId": "889dae5d-f670-4ebe-b36d-3df706187e73"
      },
      "outputs": [
        {
          "output_type": "stream",
          "name": "stderr",
          "text": [
            "<ipython-input-13-7dbc1a73ba5e>:29: SettingWithCopyWarning: \n",
            "A value is trying to be set on a copy of a slice from a DataFrame.\n",
            "Try using .loc[row_indexer,col_indexer] = value instead\n",
            "\n",
            "See the caveats in the documentation: https://pandas.pydata.org/pandas-docs/stable/user_guide/indexing.html#returning-a-view-versus-a-copy\n",
            "  X['tweet_tokens'] = X['tweet_tokens'].apply(lambda x: ' '.join(x))\n"
          ]
        }
      ],
      "source": [
        "\n",
        "import pandas as pd\n",
        "import ast\n",
        "from sklearn.feature_extraction.text import TfidfVectorizer\n",
        "from sklearn.model_selection import train_test_split\n",
        "from tensorflow.keras.models import Sequential\n",
        "from tensorflow.keras.layers import Dense, Dropout\n",
        "from tensorflow.keras.optimizers import Adam\n",
        "from tensorflow.keras.callbacks import EarlyStopping\n",
        "from sklearn.preprocessing import LabelEncoder\n",
        "from tensorflow.keras.utils import to_categorical\n",
        "from imblearn.over_sampling import SMOTE\n",
        "\n",
        "\n",
        "\n",
        "\n",
        "\n",
        "# Load the dataset\n",
        "df = pd.read_csv('/content/cleaned_dataset (1).csv')\n",
        "\n",
        "# Convert string representation of list to actual list\n",
        "df['tweet_tokens'] = df['tweet_tokens'].apply(ast.literal_eval)\n",
        "\n",
        "# Define feature and target variables\n",
        "X = df[['tweet_tokens']]\n",
        "y = df['class']\n",
        "\n",
        "\n",
        "# Define a function to join tokens into a single string\n",
        "X['tweet_tokens'] = X['tweet_tokens'].apply(lambda x: ' '.join(x))\n",
        "\n",
        "# Use TfidfVectorizer for the 'tweet_tokens' column\n",
        "tfidf = TfidfVectorizer()\n",
        "X_tfidf = tfidf.fit_transform(X['tweet_tokens'])\n",
        "\n",
        "# Encode target labels\n",
        "label_encoder = LabelEncoder()\n",
        "y_encoded = label_encoder.fit_transform(y)\n",
        "\n",
        "# Handle class imbalance by converting labels to one-hot encoding\n",
        "y_categorical = to_categorical(y_encoded)\n",
        "\n",
        "# Split the dataset into training and testing sets\n",
        "X_train, X_test, y_train, y_test = train_test_split(X_tfidf, y_categorical, test_size=0.2, random_state=42)"
      ]
    },
    {
      "cell_type": "code",
      "source": [
        "# Define the LSTM model\n",
        "model = Sequential()\n",
        "model.add(Dense(64, activation='relu', input_shape=(X_tfidf.shape[1],)))\n",
        "model.add(Dropout(0.2))\n",
        "model.add(Dense(64, activation='relu'))\n",
        "model.add(Dropout(0.2))\n",
        "model.add(Dense(y_categorical.shape[1], activation='softmax'))\n",
        "\n",
        "# Compile the model\n",
        "model.compile(loss='categorical_crossentropy', optimizer=Adam(lr=0.001), metrics=['accuracy'])\n",
        "\n",
        "# Define early stopping callback\n",
        "early_stopping = EarlyStopping(monitor='val_accuracy', patience=5, min_delta=0.001)\n",
        "\n",
        "# Sort the indices of the sparse matrix\n",
        "X_tfidf.sort_indices()\n",
        "\n",
        "# Split data into training and validation sets\n",
        "X_train, X_val, y_train, y_val = train_test_split(X_tfidf, y_categorical, test_size=0.2, random_state=42)\n",
        "\n",
        "# Train the model\n",
        "history = model.fit(X_train, y_train, epochs=10, batch_size=32,\n",
        "                    validation_data=(X_val, y_val),\n",
        "                    callbacks=[early_stopping],\n",
        "                    verbose=1)\n",
        "\n",
        "# Evaluate the model on the validation set\n",
        "loss, accuracy = model.evaluate(X_val, y_val)\n",
        "print(f'Validation accuracy: {accuracy:.3f}')"
      ],
      "metadata": {
        "colab": {
          "base_uri": "https://localhost:8080/"
        },
        "id": "sgqbH_xwAmcK",
        "outputId": "410fb924-d562-4e66-a2ee-7c486f4c4580"
      },
      "execution_count": null,
      "outputs": [
        {
          "output_type": "stream",
          "name": "stderr",
          "text": [
            "WARNING:absl:`lr` is deprecated in Keras optimizer, please use `learning_rate` or use the legacy optimizer, e.g.,tf.keras.optimizers.legacy.Adam.\n"
          ]
        },
        {
          "output_type": "stream",
          "name": "stdout",
          "text": [
            "Epoch 1/10\n",
            "620/620 [==============================] - 15s 21ms/step - loss: 0.4567 - accuracy: 0.8418 - val_loss: 0.3288 - val_accuracy: 0.8808\n",
            "Epoch 2/10\n",
            "620/620 [==============================] - 14s 22ms/step - loss: 0.2135 - accuracy: 0.9239 - val_loss: 0.3402 - val_accuracy: 0.8790\n",
            "Epoch 3/10\n",
            "620/620 [==============================] - 14s 22ms/step - loss: 0.1264 - accuracy: 0.9561 - val_loss: 0.4009 - val_accuracy: 0.8679\n",
            "Epoch 4/10\n",
            "620/620 [==============================] - 12s 20ms/step - loss: 0.0818 - accuracy: 0.9716 - val_loss: 0.4531 - val_accuracy: 0.8634\n",
            "Epoch 5/10\n",
            "620/620 [==============================] - 12s 19ms/step - loss: 0.0571 - accuracy: 0.9795 - val_loss: 0.5322 - val_accuracy: 0.8560\n",
            "Epoch 6/10\n",
            "620/620 [==============================] - 11s 18ms/step - loss: 0.0418 - accuracy: 0.9856 - val_loss: 0.5910 - val_accuracy: 0.8608\n",
            "155/155 [==============================] - 0s 2ms/step - loss: 0.5910 - accuracy: 0.8608\n",
            "Validation accuracy: 0.861\n"
          ]
        }
      ]
    },
    {
      "cell_type": "code",
      "source": [],
      "metadata": {
        "id": "hRnxkfDVAmBb"
      },
      "execution_count": null,
      "outputs": []
    }
  ]
}